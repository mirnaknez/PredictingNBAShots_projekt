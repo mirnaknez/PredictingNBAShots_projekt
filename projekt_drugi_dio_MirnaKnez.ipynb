{
  "nbformat": 4,
  "nbformat_minor": 0,
  "metadata": {
    "colab": {
      "provenance": []
    },
    "kernelspec": {
      "name": "python3",
      "display_name": "Python 3"
    },
    "language_info": {
      "name": "python"
    }
  },
  "cells": [
    {
      "cell_type": "markdown",
      "source": [
        "Cilj ovog projekta je analizirati skup podataka o šutevima iz NBA-a i predvidjeti njihovu uspješnost koristeći različite algoritme strojnog učenja. Projekt je inspiriran radom \"Predicting NBA Shots\" autora Bretta Meehana."
      ],
      "metadata": {
        "id": "1WVOMf9dI0sF"
      }
    },
    {
      "cell_type": "markdown",
      "source": [
        "#Učitavanje biblioteka i podataka"
      ],
      "metadata": {
        "id": "hyzhkypRVBFa"
      }
    },
    {
      "cell_type": "code",
      "execution_count": 284,
      "metadata": {
        "id": "8ENm5MtqIcpZ"
      },
      "outputs": [],
      "source": [
        "import pandas as pd\n",
        "import numpy as np\n",
        "import matplotlib.pyplot as plt\n",
        "import seaborn as sns\n",
        "from sklearn.model_selection import train_test_split\n",
        "from sklearn.metrics import accuracy_score\n",
        "from xgboost import XGBClassifier\n"
      ]
    },
    {
      "cell_type": "code",
      "source": [
        "data = pd.read_csv(\"shot_logs.csv\")\n",
        "data.columns = [\n",
        "    'Game ID', 'Matchup', 'Location', 'Win indicator', 'Final margin',\n",
        "    'Shot number', 'Period', 'Game clock', 'Shot clock', 'Dribbles',\n",
        "    'Touch time', 'Shot distance', 'Points type', 'Shot result',\n",
        "    'Closest defender', 'Closest defender ID', 'Closest defender distance',\n",
        "    'Field goal made', 'Points scored', 'Player name', 'Player ID'\n",
        "]\n",
        "data.head()"
      ],
      "metadata": {
        "colab": {
          "base_uri": "https://localhost:8080/",
          "height": 637
        },
        "id": "OTG-LKyQKB5Z",
        "outputId": "d2cf627d-f723-481e-d827-2a14945e2a6a"
      },
      "execution_count": 285,
      "outputs": [
        {
          "output_type": "execute_result",
          "data": {
            "text/plain": [
              "    Game ID                   Matchup Location Win indicator  Final margin  \\\n",
              "0  21400899  MAR 04, 2015 - CHA @ BKN        A             W            24   \n",
              "1  21400899  MAR 04, 2015 - CHA @ BKN        A             W            24   \n",
              "2  21400899  MAR 04, 2015 - CHA @ BKN        A             W            24   \n",
              "3  21400899  MAR 04, 2015 - CHA @ BKN        A             W            24   \n",
              "4  21400899  MAR 04, 2015 - CHA @ BKN        A             W            24   \n",
              "\n",
              "   Shot number  Period Game clock  Shot clock  Dribbles  ...  Shot distance  \\\n",
              "0            1       1       1:09        10.8         2  ...            7.7   \n",
              "1            2       1       0:14         3.4         0  ...           28.2   \n",
              "2            3       1       0:00         NaN         3  ...           10.1   \n",
              "3            4       2      11:47        10.3         2  ...           17.2   \n",
              "4            5       2      10:34        10.9         2  ...            3.7   \n",
              "\n",
              "   Points type  Shot result   Closest defender Closest defender ID  \\\n",
              "0            2         made     Anderson, Alan              101187   \n",
              "1            3       missed  Bogdanovic, Bojan              202711   \n",
              "2            2       missed  Bogdanovic, Bojan              202711   \n",
              "3            2       missed      Brown, Markel              203900   \n",
              "4            2       missed    Young, Thaddeus              201152   \n",
              "\n",
              "   Closest defender distance  Field goal made  Points scored    Player name  \\\n",
              "0                        1.3                1              2  brian roberts   \n",
              "1                        6.1                0              0  brian roberts   \n",
              "2                        0.9                0              0  brian roberts   \n",
              "3                        3.4                0              0  brian roberts   \n",
              "4                        1.1                0              0  brian roberts   \n",
              "\n",
              "  Player ID  \n",
              "0    203148  \n",
              "1    203148  \n",
              "2    203148  \n",
              "3    203148  \n",
              "4    203148  \n",
              "\n",
              "[5 rows x 21 columns]"
            ],
            "text/html": [
              "\n",
              "  <div id=\"df-3e6e8336-8656-4939-a889-a9eda9736b06\" class=\"colab-df-container\">\n",
              "    <div>\n",
              "<style scoped>\n",
              "    .dataframe tbody tr th:only-of-type {\n",
              "        vertical-align: middle;\n",
              "    }\n",
              "\n",
              "    .dataframe tbody tr th {\n",
              "        vertical-align: top;\n",
              "    }\n",
              "\n",
              "    .dataframe thead th {\n",
              "        text-align: right;\n",
              "    }\n",
              "</style>\n",
              "<table border=\"1\" class=\"dataframe\">\n",
              "  <thead>\n",
              "    <tr style=\"text-align: right;\">\n",
              "      <th></th>\n",
              "      <th>Game ID</th>\n",
              "      <th>Matchup</th>\n",
              "      <th>Location</th>\n",
              "      <th>Win indicator</th>\n",
              "      <th>Final margin</th>\n",
              "      <th>Shot number</th>\n",
              "      <th>Period</th>\n",
              "      <th>Game clock</th>\n",
              "      <th>Shot clock</th>\n",
              "      <th>Dribbles</th>\n",
              "      <th>...</th>\n",
              "      <th>Shot distance</th>\n",
              "      <th>Points type</th>\n",
              "      <th>Shot result</th>\n",
              "      <th>Closest defender</th>\n",
              "      <th>Closest defender ID</th>\n",
              "      <th>Closest defender distance</th>\n",
              "      <th>Field goal made</th>\n",
              "      <th>Points scored</th>\n",
              "      <th>Player name</th>\n",
              "      <th>Player ID</th>\n",
              "    </tr>\n",
              "  </thead>\n",
              "  <tbody>\n",
              "    <tr>\n",
              "      <th>0</th>\n",
              "      <td>21400899</td>\n",
              "      <td>MAR 04, 2015 - CHA @ BKN</td>\n",
              "      <td>A</td>\n",
              "      <td>W</td>\n",
              "      <td>24</td>\n",
              "      <td>1</td>\n",
              "      <td>1</td>\n",
              "      <td>1:09</td>\n",
              "      <td>10.8</td>\n",
              "      <td>2</td>\n",
              "      <td>...</td>\n",
              "      <td>7.7</td>\n",
              "      <td>2</td>\n",
              "      <td>made</td>\n",
              "      <td>Anderson, Alan</td>\n",
              "      <td>101187</td>\n",
              "      <td>1.3</td>\n",
              "      <td>1</td>\n",
              "      <td>2</td>\n",
              "      <td>brian roberts</td>\n",
              "      <td>203148</td>\n",
              "    </tr>\n",
              "    <tr>\n",
              "      <th>1</th>\n",
              "      <td>21400899</td>\n",
              "      <td>MAR 04, 2015 - CHA @ BKN</td>\n",
              "      <td>A</td>\n",
              "      <td>W</td>\n",
              "      <td>24</td>\n",
              "      <td>2</td>\n",
              "      <td>1</td>\n",
              "      <td>0:14</td>\n",
              "      <td>3.4</td>\n",
              "      <td>0</td>\n",
              "      <td>...</td>\n",
              "      <td>28.2</td>\n",
              "      <td>3</td>\n",
              "      <td>missed</td>\n",
              "      <td>Bogdanovic, Bojan</td>\n",
              "      <td>202711</td>\n",
              "      <td>6.1</td>\n",
              "      <td>0</td>\n",
              "      <td>0</td>\n",
              "      <td>brian roberts</td>\n",
              "      <td>203148</td>\n",
              "    </tr>\n",
              "    <tr>\n",
              "      <th>2</th>\n",
              "      <td>21400899</td>\n",
              "      <td>MAR 04, 2015 - CHA @ BKN</td>\n",
              "      <td>A</td>\n",
              "      <td>W</td>\n",
              "      <td>24</td>\n",
              "      <td>3</td>\n",
              "      <td>1</td>\n",
              "      <td>0:00</td>\n",
              "      <td>NaN</td>\n",
              "      <td>3</td>\n",
              "      <td>...</td>\n",
              "      <td>10.1</td>\n",
              "      <td>2</td>\n",
              "      <td>missed</td>\n",
              "      <td>Bogdanovic, Bojan</td>\n",
              "      <td>202711</td>\n",
              "      <td>0.9</td>\n",
              "      <td>0</td>\n",
              "      <td>0</td>\n",
              "      <td>brian roberts</td>\n",
              "      <td>203148</td>\n",
              "    </tr>\n",
              "    <tr>\n",
              "      <th>3</th>\n",
              "      <td>21400899</td>\n",
              "      <td>MAR 04, 2015 - CHA @ BKN</td>\n",
              "      <td>A</td>\n",
              "      <td>W</td>\n",
              "      <td>24</td>\n",
              "      <td>4</td>\n",
              "      <td>2</td>\n",
              "      <td>11:47</td>\n",
              "      <td>10.3</td>\n",
              "      <td>2</td>\n",
              "      <td>...</td>\n",
              "      <td>17.2</td>\n",
              "      <td>2</td>\n",
              "      <td>missed</td>\n",
              "      <td>Brown, Markel</td>\n",
              "      <td>203900</td>\n",
              "      <td>3.4</td>\n",
              "      <td>0</td>\n",
              "      <td>0</td>\n",
              "      <td>brian roberts</td>\n",
              "      <td>203148</td>\n",
              "    </tr>\n",
              "    <tr>\n",
              "      <th>4</th>\n",
              "      <td>21400899</td>\n",
              "      <td>MAR 04, 2015 - CHA @ BKN</td>\n",
              "      <td>A</td>\n",
              "      <td>W</td>\n",
              "      <td>24</td>\n",
              "      <td>5</td>\n",
              "      <td>2</td>\n",
              "      <td>10:34</td>\n",
              "      <td>10.9</td>\n",
              "      <td>2</td>\n",
              "      <td>...</td>\n",
              "      <td>3.7</td>\n",
              "      <td>2</td>\n",
              "      <td>missed</td>\n",
              "      <td>Young, Thaddeus</td>\n",
              "      <td>201152</td>\n",
              "      <td>1.1</td>\n",
              "      <td>0</td>\n",
              "      <td>0</td>\n",
              "      <td>brian roberts</td>\n",
              "      <td>203148</td>\n",
              "    </tr>\n",
              "  </tbody>\n",
              "</table>\n",
              "<p>5 rows × 21 columns</p>\n",
              "</div>\n",
              "    <div class=\"colab-df-buttons\">\n",
              "\n",
              "  <div class=\"colab-df-container\">\n",
              "    <button class=\"colab-df-convert\" onclick=\"convertToInteractive('df-3e6e8336-8656-4939-a889-a9eda9736b06')\"\n",
              "            title=\"Convert this dataframe to an interactive table.\"\n",
              "            style=\"display:none;\">\n",
              "\n",
              "  <svg xmlns=\"http://www.w3.org/2000/svg\" height=\"24px\" viewBox=\"0 -960 960 960\">\n",
              "    <path d=\"M120-120v-720h720v720H120Zm60-500h600v-160H180v160Zm220 220h160v-160H400v160Zm0 220h160v-160H400v160ZM180-400h160v-160H180v160Zm440 0h160v-160H620v160ZM180-180h160v-160H180v160Zm440 0h160v-160H620v160Z\"/>\n",
              "  </svg>\n",
              "    </button>\n",
              "\n",
              "  <style>\n",
              "    .colab-df-container {\n",
              "      display:flex;\n",
              "      gap: 12px;\n",
              "    }\n",
              "\n",
              "    .colab-df-convert {\n",
              "      background-color: #E8F0FE;\n",
              "      border: none;\n",
              "      border-radius: 50%;\n",
              "      cursor: pointer;\n",
              "      display: none;\n",
              "      fill: #1967D2;\n",
              "      height: 32px;\n",
              "      padding: 0 0 0 0;\n",
              "      width: 32px;\n",
              "    }\n",
              "\n",
              "    .colab-df-convert:hover {\n",
              "      background-color: #E2EBFA;\n",
              "      box-shadow: 0px 1px 2px rgba(60, 64, 67, 0.3), 0px 1px 3px 1px rgba(60, 64, 67, 0.15);\n",
              "      fill: #174EA6;\n",
              "    }\n",
              "\n",
              "    .colab-df-buttons div {\n",
              "      margin-bottom: 4px;\n",
              "    }\n",
              "\n",
              "    [theme=dark] .colab-df-convert {\n",
              "      background-color: #3B4455;\n",
              "      fill: #D2E3FC;\n",
              "    }\n",
              "\n",
              "    [theme=dark] .colab-df-convert:hover {\n",
              "      background-color: #434B5C;\n",
              "      box-shadow: 0px 1px 3px 1px rgba(0, 0, 0, 0.15);\n",
              "      filter: drop-shadow(0px 1px 2px rgba(0, 0, 0, 0.3));\n",
              "      fill: #FFFFFF;\n",
              "    }\n",
              "  </style>\n",
              "\n",
              "    <script>\n",
              "      const buttonEl =\n",
              "        document.querySelector('#df-3e6e8336-8656-4939-a889-a9eda9736b06 button.colab-df-convert');\n",
              "      buttonEl.style.display =\n",
              "        google.colab.kernel.accessAllowed ? 'block' : 'none';\n",
              "\n",
              "      async function convertToInteractive(key) {\n",
              "        const element = document.querySelector('#df-3e6e8336-8656-4939-a889-a9eda9736b06');\n",
              "        const dataTable =\n",
              "          await google.colab.kernel.invokeFunction('convertToInteractive',\n",
              "                                                    [key], {});\n",
              "        if (!dataTable) return;\n",
              "\n",
              "        const docLinkHtml = 'Like what you see? Visit the ' +\n",
              "          '<a target=\"_blank\" href=https://colab.research.google.com/notebooks/data_table.ipynb>data table notebook</a>'\n",
              "          + ' to learn more about interactive tables.';\n",
              "        element.innerHTML = '';\n",
              "        dataTable['output_type'] = 'display_data';\n",
              "        await google.colab.output.renderOutput(dataTable, element);\n",
              "        const docLink = document.createElement('div');\n",
              "        docLink.innerHTML = docLinkHtml;\n",
              "        element.appendChild(docLink);\n",
              "      }\n",
              "    </script>\n",
              "  </div>\n",
              "\n",
              "\n",
              "<div id=\"df-829160dc-750d-4be4-88f8-d47819c3af37\">\n",
              "  <button class=\"colab-df-quickchart\" onclick=\"quickchart('df-829160dc-750d-4be4-88f8-d47819c3af37')\"\n",
              "            title=\"Suggest charts\"\n",
              "            style=\"display:none;\">\n",
              "\n",
              "<svg xmlns=\"http://www.w3.org/2000/svg\" height=\"24px\"viewBox=\"0 0 24 24\"\n",
              "     width=\"24px\">\n",
              "    <g>\n",
              "        <path d=\"M19 3H5c-1.1 0-2 .9-2 2v14c0 1.1.9 2 2 2h14c1.1 0 2-.9 2-2V5c0-1.1-.9-2-2-2zM9 17H7v-7h2v7zm4 0h-2V7h2v10zm4 0h-2v-4h2v4z\"/>\n",
              "    </g>\n",
              "</svg>\n",
              "  </button>\n",
              "\n",
              "<style>\n",
              "  .colab-df-quickchart {\n",
              "      --bg-color: #E8F0FE;\n",
              "      --fill-color: #1967D2;\n",
              "      --hover-bg-color: #E2EBFA;\n",
              "      --hover-fill-color: #174EA6;\n",
              "      --disabled-fill-color: #AAA;\n",
              "      --disabled-bg-color: #DDD;\n",
              "  }\n",
              "\n",
              "  [theme=dark] .colab-df-quickchart {\n",
              "      --bg-color: #3B4455;\n",
              "      --fill-color: #D2E3FC;\n",
              "      --hover-bg-color: #434B5C;\n",
              "      --hover-fill-color: #FFFFFF;\n",
              "      --disabled-bg-color: #3B4455;\n",
              "      --disabled-fill-color: #666;\n",
              "  }\n",
              "\n",
              "  .colab-df-quickchart {\n",
              "    background-color: var(--bg-color);\n",
              "    border: none;\n",
              "    border-radius: 50%;\n",
              "    cursor: pointer;\n",
              "    display: none;\n",
              "    fill: var(--fill-color);\n",
              "    height: 32px;\n",
              "    padding: 0;\n",
              "    width: 32px;\n",
              "  }\n",
              "\n",
              "  .colab-df-quickchart:hover {\n",
              "    background-color: var(--hover-bg-color);\n",
              "    box-shadow: 0 1px 2px rgba(60, 64, 67, 0.3), 0 1px 3px 1px rgba(60, 64, 67, 0.15);\n",
              "    fill: var(--button-hover-fill-color);\n",
              "  }\n",
              "\n",
              "  .colab-df-quickchart-complete:disabled,\n",
              "  .colab-df-quickchart-complete:disabled:hover {\n",
              "    background-color: var(--disabled-bg-color);\n",
              "    fill: var(--disabled-fill-color);\n",
              "    box-shadow: none;\n",
              "  }\n",
              "\n",
              "  .colab-df-spinner {\n",
              "    border: 2px solid var(--fill-color);\n",
              "    border-color: transparent;\n",
              "    border-bottom-color: var(--fill-color);\n",
              "    animation:\n",
              "      spin 1s steps(1) infinite;\n",
              "  }\n",
              "\n",
              "  @keyframes spin {\n",
              "    0% {\n",
              "      border-color: transparent;\n",
              "      border-bottom-color: var(--fill-color);\n",
              "      border-left-color: var(--fill-color);\n",
              "    }\n",
              "    20% {\n",
              "      border-color: transparent;\n",
              "      border-left-color: var(--fill-color);\n",
              "      border-top-color: var(--fill-color);\n",
              "    }\n",
              "    30% {\n",
              "      border-color: transparent;\n",
              "      border-left-color: var(--fill-color);\n",
              "      border-top-color: var(--fill-color);\n",
              "      border-right-color: var(--fill-color);\n",
              "    }\n",
              "    40% {\n",
              "      border-color: transparent;\n",
              "      border-right-color: var(--fill-color);\n",
              "      border-top-color: var(--fill-color);\n",
              "    }\n",
              "    60% {\n",
              "      border-color: transparent;\n",
              "      border-right-color: var(--fill-color);\n",
              "    }\n",
              "    80% {\n",
              "      border-color: transparent;\n",
              "      border-right-color: var(--fill-color);\n",
              "      border-bottom-color: var(--fill-color);\n",
              "    }\n",
              "    90% {\n",
              "      border-color: transparent;\n",
              "      border-bottom-color: var(--fill-color);\n",
              "    }\n",
              "  }\n",
              "</style>\n",
              "\n",
              "  <script>\n",
              "    async function quickchart(key) {\n",
              "      const quickchartButtonEl =\n",
              "        document.querySelector('#' + key + ' button');\n",
              "      quickchartButtonEl.disabled = true;  // To prevent multiple clicks.\n",
              "      quickchartButtonEl.classList.add('colab-df-spinner');\n",
              "      try {\n",
              "        const charts = await google.colab.kernel.invokeFunction(\n",
              "            'suggestCharts', [key], {});\n",
              "      } catch (error) {\n",
              "        console.error('Error during call to suggestCharts:', error);\n",
              "      }\n",
              "      quickchartButtonEl.classList.remove('colab-df-spinner');\n",
              "      quickchartButtonEl.classList.add('colab-df-quickchart-complete');\n",
              "    }\n",
              "    (() => {\n",
              "      let quickchartButtonEl =\n",
              "        document.querySelector('#df-829160dc-750d-4be4-88f8-d47819c3af37 button');\n",
              "      quickchartButtonEl.style.display =\n",
              "        google.colab.kernel.accessAllowed ? 'block' : 'none';\n",
              "    })();\n",
              "  </script>\n",
              "</div>\n",
              "\n",
              "    </div>\n",
              "  </div>\n"
            ],
            "application/vnd.google.colaboratory.intrinsic+json": {
              "type": "dataframe",
              "variable_name": "data"
            }
          },
          "metadata": {},
          "execution_count": 285
        }
      ]
    },
    {
      "cell_type": "markdown",
      "source": [
        "#Informacije o dataset-u"
      ],
      "metadata": {
        "id": "IliSfjtaVNon"
      }
    },
    {
      "cell_type": "markdown",
      "source": [
        "Pregled dimenzija i tipova podataka."
      ],
      "metadata": {
        "id": "ZF6yqigOqUDS"
      }
    },
    {
      "cell_type": "code",
      "source": [
        "data.shape"
      ],
      "metadata": {
        "colab": {
          "base_uri": "https://localhost:8080/"
        },
        "id": "GM8qcMvWGcFe",
        "outputId": "8a9b7e4e-eab1-442b-ab07-42d213fbb1d0"
      },
      "execution_count": 286,
      "outputs": [
        {
          "output_type": "execute_result",
          "data": {
            "text/plain": [
              "(128069, 21)"
            ]
          },
          "metadata": {},
          "execution_count": 286
        }
      ]
    },
    {
      "cell_type": "code",
      "source": [
        "data.info()"
      ],
      "metadata": {
        "colab": {
          "base_uri": "https://localhost:8080/"
        },
        "id": "C-0xT0Y1Lq7m",
        "outputId": "0ee74662-d214-46c0-8f0f-1b68c9210054"
      },
      "execution_count": 287,
      "outputs": [
        {
          "output_type": "stream",
          "name": "stdout",
          "text": [
            "<class 'pandas.core.frame.DataFrame'>\n",
            "RangeIndex: 128069 entries, 0 to 128068\n",
            "Data columns (total 21 columns):\n",
            " #   Column                     Non-Null Count   Dtype  \n",
            "---  ------                     --------------   -----  \n",
            " 0   Game ID                    128069 non-null  int64  \n",
            " 1   Matchup                    128069 non-null  object \n",
            " 2   Location                   128069 non-null  object \n",
            " 3   Win indicator              128069 non-null  object \n",
            " 4   Final margin               128069 non-null  int64  \n",
            " 5   Shot number                128069 non-null  int64  \n",
            " 6   Period                     128069 non-null  int64  \n",
            " 7   Game clock                 128069 non-null  object \n",
            " 8   Shot clock                 122502 non-null  float64\n",
            " 9   Dribbles                   128069 non-null  int64  \n",
            " 10  Touch time                 128069 non-null  float64\n",
            " 11  Shot distance              128069 non-null  float64\n",
            " 12  Points type                128069 non-null  int64  \n",
            " 13  Shot result                128069 non-null  object \n",
            " 14  Closest defender           128069 non-null  object \n",
            " 15  Closest defender ID        128069 non-null  int64  \n",
            " 16  Closest defender distance  128069 non-null  float64\n",
            " 17  Field goal made            128069 non-null  int64  \n",
            " 18  Points scored              128069 non-null  int64  \n",
            " 19  Player name                128069 non-null  object \n",
            " 20  Player ID                  128069 non-null  int64  \n",
            "dtypes: float64(4), int64(10), object(7)\n",
            "memory usage: 20.5+ MB\n"
          ]
        }
      ]
    },
    {
      "cell_type": "markdown",
      "source": [
        " Prikaz deskriptivne statistike koja obuhvaća raspon, medijan i prosjek za numeričke značajke."
      ],
      "metadata": {
        "id": "oW_bnYeEqZwy"
      }
    },
    {
      "cell_type": "code",
      "source": [
        "data.describe()"
      ],
      "metadata": {
        "colab": {
          "base_uri": "https://localhost:8080/",
          "height": 355
        },
        "id": "MYUC9SBeLrGp",
        "outputId": "e60bc6ba-5626-4641-913d-0102469146ee"
      },
      "execution_count": 288,
      "outputs": [
        {
          "output_type": "execute_result",
          "data": {
            "text/plain": [
              "            Game ID   Final margin    Shot number         Period  \\\n",
              "count  1.280690e+05  128069.000000  128069.000000  128069.000000   \n",
              "mean   2.140045e+07       0.208723       6.506899       2.469427   \n",
              "std    2.578773e+02      13.233267       4.713260       1.139919   \n",
              "min    2.140000e+07     -53.000000       1.000000       1.000000   \n",
              "25%    2.140023e+07      -8.000000       3.000000       1.000000   \n",
              "50%    2.140045e+07       1.000000       5.000000       2.000000   \n",
              "75%    2.140067e+07       9.000000       9.000000       3.000000   \n",
              "max    2.140091e+07      53.000000      38.000000       7.000000   \n",
              "\n",
              "          Shot clock       Dribbles     Touch time  Shot distance  \\\n",
              "count  122502.000000  128069.000000  128069.000000  128069.000000   \n",
              "mean       12.453344       2.023355       2.765901      13.571504   \n",
              "std         5.763265       3.477760       3.043682       8.888964   \n",
              "min         0.000000       0.000000    -163.600000       0.000000   \n",
              "25%         8.200000       0.000000       0.900000       4.700000   \n",
              "50%        12.300000       1.000000       1.600000      13.700000   \n",
              "75%        16.675000       2.000000       3.700000      22.500000   \n",
              "max        24.000000      32.000000      24.900000      47.200000   \n",
              "\n",
              "         Points type  Closest defender ID  Closest defender distance  \\\n",
              "count  128069.000000        128069.000000              128069.000000   \n",
              "mean        2.264670        159038.487284                   4.123015   \n",
              "std         0.441159         78791.172947                   2.756446   \n",
              "min         2.000000           708.000000                   0.000000   \n",
              "25%         2.000000        101249.000000                   2.300000   \n",
              "50%         2.000000        201949.000000                   3.700000   \n",
              "75%         3.000000        203079.000000                   5.300000   \n",
              "max         3.000000        530027.000000                  53.200000   \n",
              "\n",
              "       Field goal made  Points scored      Player ID  \n",
              "count    128069.000000  128069.000000  128069.000000  \n",
              "mean          0.452139       0.997314  157238.251247  \n",
              "std           0.497706       1.130978   79362.389336  \n",
              "min           0.000000       0.000000     708.000000  \n",
              "25%           0.000000       0.000000  101162.000000  \n",
              "50%           0.000000       0.000000  201939.000000  \n",
              "75%           1.000000       2.000000  202704.000000  \n",
              "max           1.000000       3.000000  204060.000000  "
            ],
            "text/html": [
              "\n",
              "  <div id=\"df-4262359f-56d3-417d-a244-f2d64a27a4bd\" class=\"colab-df-container\">\n",
              "    <div>\n",
              "<style scoped>\n",
              "    .dataframe tbody tr th:only-of-type {\n",
              "        vertical-align: middle;\n",
              "    }\n",
              "\n",
              "    .dataframe tbody tr th {\n",
              "        vertical-align: top;\n",
              "    }\n",
              "\n",
              "    .dataframe thead th {\n",
              "        text-align: right;\n",
              "    }\n",
              "</style>\n",
              "<table border=\"1\" class=\"dataframe\">\n",
              "  <thead>\n",
              "    <tr style=\"text-align: right;\">\n",
              "      <th></th>\n",
              "      <th>Game ID</th>\n",
              "      <th>Final margin</th>\n",
              "      <th>Shot number</th>\n",
              "      <th>Period</th>\n",
              "      <th>Shot clock</th>\n",
              "      <th>Dribbles</th>\n",
              "      <th>Touch time</th>\n",
              "      <th>Shot distance</th>\n",
              "      <th>Points type</th>\n",
              "      <th>Closest defender ID</th>\n",
              "      <th>Closest defender distance</th>\n",
              "      <th>Field goal made</th>\n",
              "      <th>Points scored</th>\n",
              "      <th>Player ID</th>\n",
              "    </tr>\n",
              "  </thead>\n",
              "  <tbody>\n",
              "    <tr>\n",
              "      <th>count</th>\n",
              "      <td>1.280690e+05</td>\n",
              "      <td>128069.000000</td>\n",
              "      <td>128069.000000</td>\n",
              "      <td>128069.000000</td>\n",
              "      <td>122502.000000</td>\n",
              "      <td>128069.000000</td>\n",
              "      <td>128069.000000</td>\n",
              "      <td>128069.000000</td>\n",
              "      <td>128069.000000</td>\n",
              "      <td>128069.000000</td>\n",
              "      <td>128069.000000</td>\n",
              "      <td>128069.000000</td>\n",
              "      <td>128069.000000</td>\n",
              "      <td>128069.000000</td>\n",
              "    </tr>\n",
              "    <tr>\n",
              "      <th>mean</th>\n",
              "      <td>2.140045e+07</td>\n",
              "      <td>0.208723</td>\n",
              "      <td>6.506899</td>\n",
              "      <td>2.469427</td>\n",
              "      <td>12.453344</td>\n",
              "      <td>2.023355</td>\n",
              "      <td>2.765901</td>\n",
              "      <td>13.571504</td>\n",
              "      <td>2.264670</td>\n",
              "      <td>159038.487284</td>\n",
              "      <td>4.123015</td>\n",
              "      <td>0.452139</td>\n",
              "      <td>0.997314</td>\n",
              "      <td>157238.251247</td>\n",
              "    </tr>\n",
              "    <tr>\n",
              "      <th>std</th>\n",
              "      <td>2.578773e+02</td>\n",
              "      <td>13.233267</td>\n",
              "      <td>4.713260</td>\n",
              "      <td>1.139919</td>\n",
              "      <td>5.763265</td>\n",
              "      <td>3.477760</td>\n",
              "      <td>3.043682</td>\n",
              "      <td>8.888964</td>\n",
              "      <td>0.441159</td>\n",
              "      <td>78791.172947</td>\n",
              "      <td>2.756446</td>\n",
              "      <td>0.497706</td>\n",
              "      <td>1.130978</td>\n",
              "      <td>79362.389336</td>\n",
              "    </tr>\n",
              "    <tr>\n",
              "      <th>min</th>\n",
              "      <td>2.140000e+07</td>\n",
              "      <td>-53.000000</td>\n",
              "      <td>1.000000</td>\n",
              "      <td>1.000000</td>\n",
              "      <td>0.000000</td>\n",
              "      <td>0.000000</td>\n",
              "      <td>-163.600000</td>\n",
              "      <td>0.000000</td>\n",
              "      <td>2.000000</td>\n",
              "      <td>708.000000</td>\n",
              "      <td>0.000000</td>\n",
              "      <td>0.000000</td>\n",
              "      <td>0.000000</td>\n",
              "      <td>708.000000</td>\n",
              "    </tr>\n",
              "    <tr>\n",
              "      <th>25%</th>\n",
              "      <td>2.140023e+07</td>\n",
              "      <td>-8.000000</td>\n",
              "      <td>3.000000</td>\n",
              "      <td>1.000000</td>\n",
              "      <td>8.200000</td>\n",
              "      <td>0.000000</td>\n",
              "      <td>0.900000</td>\n",
              "      <td>4.700000</td>\n",
              "      <td>2.000000</td>\n",
              "      <td>101249.000000</td>\n",
              "      <td>2.300000</td>\n",
              "      <td>0.000000</td>\n",
              "      <td>0.000000</td>\n",
              "      <td>101162.000000</td>\n",
              "    </tr>\n",
              "    <tr>\n",
              "      <th>50%</th>\n",
              "      <td>2.140045e+07</td>\n",
              "      <td>1.000000</td>\n",
              "      <td>5.000000</td>\n",
              "      <td>2.000000</td>\n",
              "      <td>12.300000</td>\n",
              "      <td>1.000000</td>\n",
              "      <td>1.600000</td>\n",
              "      <td>13.700000</td>\n",
              "      <td>2.000000</td>\n",
              "      <td>201949.000000</td>\n",
              "      <td>3.700000</td>\n",
              "      <td>0.000000</td>\n",
              "      <td>0.000000</td>\n",
              "      <td>201939.000000</td>\n",
              "    </tr>\n",
              "    <tr>\n",
              "      <th>75%</th>\n",
              "      <td>2.140067e+07</td>\n",
              "      <td>9.000000</td>\n",
              "      <td>9.000000</td>\n",
              "      <td>3.000000</td>\n",
              "      <td>16.675000</td>\n",
              "      <td>2.000000</td>\n",
              "      <td>3.700000</td>\n",
              "      <td>22.500000</td>\n",
              "      <td>3.000000</td>\n",
              "      <td>203079.000000</td>\n",
              "      <td>5.300000</td>\n",
              "      <td>1.000000</td>\n",
              "      <td>2.000000</td>\n",
              "      <td>202704.000000</td>\n",
              "    </tr>\n",
              "    <tr>\n",
              "      <th>max</th>\n",
              "      <td>2.140091e+07</td>\n",
              "      <td>53.000000</td>\n",
              "      <td>38.000000</td>\n",
              "      <td>7.000000</td>\n",
              "      <td>24.000000</td>\n",
              "      <td>32.000000</td>\n",
              "      <td>24.900000</td>\n",
              "      <td>47.200000</td>\n",
              "      <td>3.000000</td>\n",
              "      <td>530027.000000</td>\n",
              "      <td>53.200000</td>\n",
              "      <td>1.000000</td>\n",
              "      <td>3.000000</td>\n",
              "      <td>204060.000000</td>\n",
              "    </tr>\n",
              "  </tbody>\n",
              "</table>\n",
              "</div>\n",
              "    <div class=\"colab-df-buttons\">\n",
              "\n",
              "  <div class=\"colab-df-container\">\n",
              "    <button class=\"colab-df-convert\" onclick=\"convertToInteractive('df-4262359f-56d3-417d-a244-f2d64a27a4bd')\"\n",
              "            title=\"Convert this dataframe to an interactive table.\"\n",
              "            style=\"display:none;\">\n",
              "\n",
              "  <svg xmlns=\"http://www.w3.org/2000/svg\" height=\"24px\" viewBox=\"0 -960 960 960\">\n",
              "    <path d=\"M120-120v-720h720v720H120Zm60-500h600v-160H180v160Zm220 220h160v-160H400v160Zm0 220h160v-160H400v160ZM180-400h160v-160H180v160Zm440 0h160v-160H620v160ZM180-180h160v-160H180v160Zm440 0h160v-160H620v160Z\"/>\n",
              "  </svg>\n",
              "    </button>\n",
              "\n",
              "  <style>\n",
              "    .colab-df-container {\n",
              "      display:flex;\n",
              "      gap: 12px;\n",
              "    }\n",
              "\n",
              "    .colab-df-convert {\n",
              "      background-color: #E8F0FE;\n",
              "      border: none;\n",
              "      border-radius: 50%;\n",
              "      cursor: pointer;\n",
              "      display: none;\n",
              "      fill: #1967D2;\n",
              "      height: 32px;\n",
              "      padding: 0 0 0 0;\n",
              "      width: 32px;\n",
              "    }\n",
              "\n",
              "    .colab-df-convert:hover {\n",
              "      background-color: #E2EBFA;\n",
              "      box-shadow: 0px 1px 2px rgba(60, 64, 67, 0.3), 0px 1px 3px 1px rgba(60, 64, 67, 0.15);\n",
              "      fill: #174EA6;\n",
              "    }\n",
              "\n",
              "    .colab-df-buttons div {\n",
              "      margin-bottom: 4px;\n",
              "    }\n",
              "\n",
              "    [theme=dark] .colab-df-convert {\n",
              "      background-color: #3B4455;\n",
              "      fill: #D2E3FC;\n",
              "    }\n",
              "\n",
              "    [theme=dark] .colab-df-convert:hover {\n",
              "      background-color: #434B5C;\n",
              "      box-shadow: 0px 1px 3px 1px rgba(0, 0, 0, 0.15);\n",
              "      filter: drop-shadow(0px 1px 2px rgba(0, 0, 0, 0.3));\n",
              "      fill: #FFFFFF;\n",
              "    }\n",
              "  </style>\n",
              "\n",
              "    <script>\n",
              "      const buttonEl =\n",
              "        document.querySelector('#df-4262359f-56d3-417d-a244-f2d64a27a4bd button.colab-df-convert');\n",
              "      buttonEl.style.display =\n",
              "        google.colab.kernel.accessAllowed ? 'block' : 'none';\n",
              "\n",
              "      async function convertToInteractive(key) {\n",
              "        const element = document.querySelector('#df-4262359f-56d3-417d-a244-f2d64a27a4bd');\n",
              "        const dataTable =\n",
              "          await google.colab.kernel.invokeFunction('convertToInteractive',\n",
              "                                                    [key], {});\n",
              "        if (!dataTable) return;\n",
              "\n",
              "        const docLinkHtml = 'Like what you see? Visit the ' +\n",
              "          '<a target=\"_blank\" href=https://colab.research.google.com/notebooks/data_table.ipynb>data table notebook</a>'\n",
              "          + ' to learn more about interactive tables.';\n",
              "        element.innerHTML = '';\n",
              "        dataTable['output_type'] = 'display_data';\n",
              "        await google.colab.output.renderOutput(dataTable, element);\n",
              "        const docLink = document.createElement('div');\n",
              "        docLink.innerHTML = docLinkHtml;\n",
              "        element.appendChild(docLink);\n",
              "      }\n",
              "    </script>\n",
              "  </div>\n",
              "\n",
              "\n",
              "<div id=\"df-7c6111c0-814f-4101-a143-e15b3572fed0\">\n",
              "  <button class=\"colab-df-quickchart\" onclick=\"quickchart('df-7c6111c0-814f-4101-a143-e15b3572fed0')\"\n",
              "            title=\"Suggest charts\"\n",
              "            style=\"display:none;\">\n",
              "\n",
              "<svg xmlns=\"http://www.w3.org/2000/svg\" height=\"24px\"viewBox=\"0 0 24 24\"\n",
              "     width=\"24px\">\n",
              "    <g>\n",
              "        <path d=\"M19 3H5c-1.1 0-2 .9-2 2v14c0 1.1.9 2 2 2h14c1.1 0 2-.9 2-2V5c0-1.1-.9-2-2-2zM9 17H7v-7h2v7zm4 0h-2V7h2v10zm4 0h-2v-4h2v4z\"/>\n",
              "    </g>\n",
              "</svg>\n",
              "  </button>\n",
              "\n",
              "<style>\n",
              "  .colab-df-quickchart {\n",
              "      --bg-color: #E8F0FE;\n",
              "      --fill-color: #1967D2;\n",
              "      --hover-bg-color: #E2EBFA;\n",
              "      --hover-fill-color: #174EA6;\n",
              "      --disabled-fill-color: #AAA;\n",
              "      --disabled-bg-color: #DDD;\n",
              "  }\n",
              "\n",
              "  [theme=dark] .colab-df-quickchart {\n",
              "      --bg-color: #3B4455;\n",
              "      --fill-color: #D2E3FC;\n",
              "      --hover-bg-color: #434B5C;\n",
              "      --hover-fill-color: #FFFFFF;\n",
              "      --disabled-bg-color: #3B4455;\n",
              "      --disabled-fill-color: #666;\n",
              "  }\n",
              "\n",
              "  .colab-df-quickchart {\n",
              "    background-color: var(--bg-color);\n",
              "    border: none;\n",
              "    border-radius: 50%;\n",
              "    cursor: pointer;\n",
              "    display: none;\n",
              "    fill: var(--fill-color);\n",
              "    height: 32px;\n",
              "    padding: 0;\n",
              "    width: 32px;\n",
              "  }\n",
              "\n",
              "  .colab-df-quickchart:hover {\n",
              "    background-color: var(--hover-bg-color);\n",
              "    box-shadow: 0 1px 2px rgba(60, 64, 67, 0.3), 0 1px 3px 1px rgba(60, 64, 67, 0.15);\n",
              "    fill: var(--button-hover-fill-color);\n",
              "  }\n",
              "\n",
              "  .colab-df-quickchart-complete:disabled,\n",
              "  .colab-df-quickchart-complete:disabled:hover {\n",
              "    background-color: var(--disabled-bg-color);\n",
              "    fill: var(--disabled-fill-color);\n",
              "    box-shadow: none;\n",
              "  }\n",
              "\n",
              "  .colab-df-spinner {\n",
              "    border: 2px solid var(--fill-color);\n",
              "    border-color: transparent;\n",
              "    border-bottom-color: var(--fill-color);\n",
              "    animation:\n",
              "      spin 1s steps(1) infinite;\n",
              "  }\n",
              "\n",
              "  @keyframes spin {\n",
              "    0% {\n",
              "      border-color: transparent;\n",
              "      border-bottom-color: var(--fill-color);\n",
              "      border-left-color: var(--fill-color);\n",
              "    }\n",
              "    20% {\n",
              "      border-color: transparent;\n",
              "      border-left-color: var(--fill-color);\n",
              "      border-top-color: var(--fill-color);\n",
              "    }\n",
              "    30% {\n",
              "      border-color: transparent;\n",
              "      border-left-color: var(--fill-color);\n",
              "      border-top-color: var(--fill-color);\n",
              "      border-right-color: var(--fill-color);\n",
              "    }\n",
              "    40% {\n",
              "      border-color: transparent;\n",
              "      border-right-color: var(--fill-color);\n",
              "      border-top-color: var(--fill-color);\n",
              "    }\n",
              "    60% {\n",
              "      border-color: transparent;\n",
              "      border-right-color: var(--fill-color);\n",
              "    }\n",
              "    80% {\n",
              "      border-color: transparent;\n",
              "      border-right-color: var(--fill-color);\n",
              "      border-bottom-color: var(--fill-color);\n",
              "    }\n",
              "    90% {\n",
              "      border-color: transparent;\n",
              "      border-bottom-color: var(--fill-color);\n",
              "    }\n",
              "  }\n",
              "</style>\n",
              "\n",
              "  <script>\n",
              "    async function quickchart(key) {\n",
              "      const quickchartButtonEl =\n",
              "        document.querySelector('#' + key + ' button');\n",
              "      quickchartButtonEl.disabled = true;  // To prevent multiple clicks.\n",
              "      quickchartButtonEl.classList.add('colab-df-spinner');\n",
              "      try {\n",
              "        const charts = await google.colab.kernel.invokeFunction(\n",
              "            'suggestCharts', [key], {});\n",
              "      } catch (error) {\n",
              "        console.error('Error during call to suggestCharts:', error);\n",
              "      }\n",
              "      quickchartButtonEl.classList.remove('colab-df-spinner');\n",
              "      quickchartButtonEl.classList.add('colab-df-quickchart-complete');\n",
              "    }\n",
              "    (() => {\n",
              "      let quickchartButtonEl =\n",
              "        document.querySelector('#df-7c6111c0-814f-4101-a143-e15b3572fed0 button');\n",
              "      quickchartButtonEl.style.display =\n",
              "        google.colab.kernel.accessAllowed ? 'block' : 'none';\n",
              "    })();\n",
              "  </script>\n",
              "</div>\n",
              "\n",
              "    </div>\n",
              "  </div>\n"
            ],
            "application/vnd.google.colaboratory.intrinsic+json": {
              "type": "dataframe",
              "summary": "{\n  \"name\": \"data\",\n  \"rows\": 8,\n  \"fields\": [\n    {\n      \"column\": \"Game ID\",\n      \"properties\": {\n        \"dtype\": \"number\",\n        \"std\": 9876841.774647763,\n        \"min\": 257.87725859776816,\n        \"max\": 21400908.0,\n        \"num_unique_values\": 8,\n        \"samples\": [\n          21400451.87876067,\n          21400449.0,\n          128069.0\n        ],\n        \"semantic_type\": \"\",\n        \"description\": \"\"\n      }\n    },\n    {\n      \"column\": \"Final margin\",\n      \"properties\": {\n        \"dtype\": \"number\",\n        \"std\": 45278.458557122205,\n        \"min\": -53.0,\n        \"max\": 128069.0,\n        \"num_unique_values\": 8,\n        \"samples\": [\n          0.2087234225300424,\n          1.0,\n          128069.0\n        ],\n        \"semantic_type\": \"\",\n        \"description\": \"\"\n      }\n    },\n    {\n      \"column\": \"Shot number\",\n      \"properties\": {\n        \"dtype\": \"number\",\n        \"std\": 45275.83559376815,\n        \"min\": 1.0,\n        \"max\": 128069.0,\n        \"num_unique_values\": 8,\n        \"samples\": [\n          6.506898624959983,\n          5.0,\n          128069.0\n        ],\n        \"semantic_type\": \"\",\n        \"description\": \"\"\n      }\n    },\n    {\n      \"column\": \"Period\",\n      \"properties\": {\n        \"dtype\": \"number\",\n        \"std\": 45278.33981637164,\n        \"min\": 1.0,\n        \"max\": 128069.0,\n        \"num_unique_values\": 7,\n        \"samples\": [\n          128069.0,\n          2.4694266372033824,\n          3.0\n        ],\n        \"semantic_type\": \"\",\n        \"description\": \"\"\n      }\n    },\n    {\n      \"column\": \"Shot clock\",\n      \"properties\": {\n        \"dtype\": \"number\",\n        \"std\": 43306.9881672001,\n        \"min\": 0.0,\n        \"max\": 122502.0,\n        \"num_unique_values\": 8,\n        \"samples\": [\n          12.453343618879694,\n          12.3,\n          122502.0\n        ],\n        \"semantic_type\": \"\",\n        \"description\": \"\"\n      }\n    },\n    {\n      \"column\": \"Dribbles\",\n      \"properties\": {\n        \"dtype\": \"number\",\n        \"std\": 45277.18484385848,\n        \"min\": 0.0,\n        \"max\": 128069.0,\n        \"num_unique_values\": 7,\n        \"samples\": [\n          128069.0,\n          2.023354597912063,\n          2.0\n        ],\n        \"semantic_type\": \"\",\n        \"description\": \"\"\n      }\n    },\n    {\n      \"column\": \"Touch time\",\n      \"properties\": {\n        \"dtype\": \"number\",\n        \"std\": 45285.66764322974,\n        \"min\": -163.6,\n        \"max\": 128069.0,\n        \"num_unique_values\": 8,\n        \"samples\": [\n          2.765901193887669,\n          1.6,\n          128069.0\n        ],\n        \"semantic_type\": \"\",\n        \"description\": \"\"\n      }\n    },\n    {\n      \"column\": \"Shot distance\",\n      \"properties\": {\n        \"dtype\": \"number\",\n        \"std\": 45273.64733776105,\n        \"min\": 0.0,\n        \"max\": 128069.0,\n        \"num_unique_values\": 8,\n        \"samples\": [\n          13.571504423396759,\n          13.7,\n          128069.0\n        ],\n        \"semantic_type\": \"\",\n        \"description\": \"\"\n      }\n    },\n    {\n      \"column\": \"Points type\",\n      \"properties\": {\n        \"dtype\": \"number\",\n        \"std\": 45278.4864303582,\n        \"min\": 0.4411589612174511,\n        \"max\": 128069.0,\n        \"num_unique_values\": 5,\n        \"samples\": [\n          2.2646698264216947,\n          3.0,\n          0.4411589612174511\n        ],\n        \"semantic_type\": \"\",\n        \"description\": \"\"\n      }\n    },\n    {\n      \"column\": \"Closest defender ID\",\n      \"properties\": {\n        \"dtype\": \"number\",\n        \"std\": 158153.69057402012,\n        \"min\": 708.0,\n        \"max\": 530027.0,\n        \"num_unique_values\": 8,\n        \"samples\": [\n          159038.48728419837,\n          201949.0,\n          128069.0\n        ],\n        \"semantic_type\": \"\",\n        \"description\": \"\"\n      }\n    },\n    {\n      \"column\": \"Closest defender distance\",\n      \"properties\": {\n        \"dtype\": \"number\",\n        \"std\": 45275.62740252084,\n        \"min\": 0.0,\n        \"max\": 128069.0,\n        \"num_unique_values\": 8,\n        \"samples\": [\n          4.123014937260384,\n          3.7,\n          128069.0\n        ],\n        \"semantic_type\": \"\",\n        \"description\": \"\"\n      }\n    },\n    {\n      \"column\": \"Field goal made\",\n      \"properties\": {\n        \"dtype\": \"number\",\n        \"std\": 45279.08019212133,\n        \"min\": 0.0,\n        \"max\": 128069.0,\n        \"num_unique_values\": 5,\n        \"samples\": [\n          0.4521390812764994,\n          1.0,\n          0.4977060042437299\n        ],\n        \"semantic_type\": \"\",\n        \"description\": \"\"\n      }\n    },\n    {\n      \"column\": \"Points scored\",\n      \"properties\": {\n        \"dtype\": \"number\",\n        \"std\": 45278.8691594458,\n        \"min\": 0.0,\n        \"max\": 128069.0,\n        \"num_unique_values\": 6,\n        \"samples\": [\n          128069.0,\n          0.9973139479499332,\n          3.0\n        ],\n        \"semantic_type\": \"\",\n        \"description\": \"\"\n      }\n    },\n    {\n      \"column\": \"Player ID\",\n      \"properties\": {\n        \"dtype\": \"number\",\n        \"std\": 72356.84357643723,\n        \"min\": 708.0,\n        \"max\": 204060.0,\n        \"num_unique_values\": 8,\n        \"samples\": [\n          157238.25124737446,\n          201939.0,\n          128069.0\n        ],\n        \"semantic_type\": \"\",\n        \"description\": \"\"\n      }\n    }\n  ]\n}"
            }
          },
          "metadata": {},
          "execution_count": 288
        }
      ]
    },
    {
      "cell_type": "markdown",
      "source": [
        " Prikaz broja nedostajućih vrijednosti po stupcima."
      ],
      "metadata": {
        "id": "idHVAJ7HqgRP"
      }
    },
    {
      "cell_type": "code",
      "source": [
        "data.isnull().sum()"
      ],
      "metadata": {
        "colab": {
          "base_uri": "https://localhost:8080/",
          "height": 742
        },
        "id": "35PudohzLrRD",
        "outputId": "be9bb886-a123-4002-d53f-2e8d85286876"
      },
      "execution_count": 289,
      "outputs": [
        {
          "output_type": "execute_result",
          "data": {
            "text/plain": [
              "Game ID                         0\n",
              "Matchup                         0\n",
              "Location                        0\n",
              "Win indicator                   0\n",
              "Final margin                    0\n",
              "Shot number                     0\n",
              "Period                          0\n",
              "Game clock                      0\n",
              "Shot clock                   5567\n",
              "Dribbles                        0\n",
              "Touch time                      0\n",
              "Shot distance                   0\n",
              "Points type                     0\n",
              "Shot result                     0\n",
              "Closest defender                0\n",
              "Closest defender ID             0\n",
              "Closest defender distance       0\n",
              "Field goal made                 0\n",
              "Points scored                   0\n",
              "Player name                     0\n",
              "Player ID                       0\n",
              "dtype: int64"
            ],
            "text/html": [
              "<div>\n",
              "<style scoped>\n",
              "    .dataframe tbody tr th:only-of-type {\n",
              "        vertical-align: middle;\n",
              "    }\n",
              "\n",
              "    .dataframe tbody tr th {\n",
              "        vertical-align: top;\n",
              "    }\n",
              "\n",
              "    .dataframe thead th {\n",
              "        text-align: right;\n",
              "    }\n",
              "</style>\n",
              "<table border=\"1\" class=\"dataframe\">\n",
              "  <thead>\n",
              "    <tr style=\"text-align: right;\">\n",
              "      <th></th>\n",
              "      <th>0</th>\n",
              "    </tr>\n",
              "  </thead>\n",
              "  <tbody>\n",
              "    <tr>\n",
              "      <th>Game ID</th>\n",
              "      <td>0</td>\n",
              "    </tr>\n",
              "    <tr>\n",
              "      <th>Matchup</th>\n",
              "      <td>0</td>\n",
              "    </tr>\n",
              "    <tr>\n",
              "      <th>Location</th>\n",
              "      <td>0</td>\n",
              "    </tr>\n",
              "    <tr>\n",
              "      <th>Win indicator</th>\n",
              "      <td>0</td>\n",
              "    </tr>\n",
              "    <tr>\n",
              "      <th>Final margin</th>\n",
              "      <td>0</td>\n",
              "    </tr>\n",
              "    <tr>\n",
              "      <th>Shot number</th>\n",
              "      <td>0</td>\n",
              "    </tr>\n",
              "    <tr>\n",
              "      <th>Period</th>\n",
              "      <td>0</td>\n",
              "    </tr>\n",
              "    <tr>\n",
              "      <th>Game clock</th>\n",
              "      <td>0</td>\n",
              "    </tr>\n",
              "    <tr>\n",
              "      <th>Shot clock</th>\n",
              "      <td>5567</td>\n",
              "    </tr>\n",
              "    <tr>\n",
              "      <th>Dribbles</th>\n",
              "      <td>0</td>\n",
              "    </tr>\n",
              "    <tr>\n",
              "      <th>Touch time</th>\n",
              "      <td>0</td>\n",
              "    </tr>\n",
              "    <tr>\n",
              "      <th>Shot distance</th>\n",
              "      <td>0</td>\n",
              "    </tr>\n",
              "    <tr>\n",
              "      <th>Points type</th>\n",
              "      <td>0</td>\n",
              "    </tr>\n",
              "    <tr>\n",
              "      <th>Shot result</th>\n",
              "      <td>0</td>\n",
              "    </tr>\n",
              "    <tr>\n",
              "      <th>Closest defender</th>\n",
              "      <td>0</td>\n",
              "    </tr>\n",
              "    <tr>\n",
              "      <th>Closest defender ID</th>\n",
              "      <td>0</td>\n",
              "    </tr>\n",
              "    <tr>\n",
              "      <th>Closest defender distance</th>\n",
              "      <td>0</td>\n",
              "    </tr>\n",
              "    <tr>\n",
              "      <th>Field goal made</th>\n",
              "      <td>0</td>\n",
              "    </tr>\n",
              "    <tr>\n",
              "      <th>Points scored</th>\n",
              "      <td>0</td>\n",
              "    </tr>\n",
              "    <tr>\n",
              "      <th>Player name</th>\n",
              "      <td>0</td>\n",
              "    </tr>\n",
              "    <tr>\n",
              "      <th>Player ID</th>\n",
              "      <td>0</td>\n",
              "    </tr>\n",
              "  </tbody>\n",
              "</table>\n",
              "</div><br><label><b>dtype:</b> int64</label>"
            ]
          },
          "metadata": {},
          "execution_count": 289
        }
      ]
    },
    {
      "cell_type": "markdown",
      "source": [
        "Vizualizacija udaljenosti šuta."
      ],
      "metadata": {
        "id": "W5isfkbwqlsV"
      }
    },
    {
      "cell_type": "code",
      "source": [
        "plt.boxplot(data['Shot distance'])\n",
        "plt.ylabel('distance')\n",
        "plt.show()"
      ],
      "metadata": {
        "colab": {
          "base_uri": "https://localhost:8080/",
          "height": 430
        },
        "id": "VBleRbOsIWLs",
        "outputId": "99d826bd-7513-4689-d353-4c328b74c04d"
      },
      "execution_count": 290,
      "outputs": [
        {
          "output_type": "display_data",
          "data": {
            "text/plain": [
              "<Figure size 640x480 with 1 Axes>"
            ],
            "image/png": "[encoded data removed]"
          },
          "metadata": {}
        }
      ]
    },
    {
      "cell_type": "markdown",
      "source": [
        "Vizualizacija udaljenosti najbližeg obrambenog igrača."
      ],
      "metadata": {
        "id": "qXDOE7GkqrCz"
      }
    },
    {
      "cell_type": "code",
      "source": [
        "plt.boxplot(data['Closest defender distance'])\n",
        "plt.ylabel('distance')\n",
        "plt.show()"
      ],
      "metadata": {
        "colab": {
          "base_uri": "https://localhost:8080/",
          "height": 430
        },
        "id": "sOF-veJEIvNJ",
        "outputId": "d47c7ecf-615e-4530-f8ea-286feed20ee2"
      },
      "execution_count": 291,
      "outputs": [
        {
          "output_type": "display_data",
          "data": {
            "text/plain": [
              "<Figure size 640x480 with 1 Axes>"
            ],
            "image/png": "[encoded data removed]"
          },
          "metadata": {}
        }
      ]
    },
    {
      "cell_type": "markdown",
      "source": [
        "Vizualizacija vremena šuta."
      ],
      "metadata": {
        "id": "JpCjml_yqzy-"
      }
    },
    {
      "cell_type": "code",
      "source": [
        "plt.boxplot(data['Shot clock'].dropna())\n",
        "plt.ylabel('time')\n",
        "plt.show()"
      ],
      "metadata": {
        "colab": {
          "base_uri": "https://localhost:8080/",
          "height": 433
        },
        "id": "9G932zGHI4iK",
        "outputId": "e17b2cc6-cd03-4470-d578-24fea4faa424"
      },
      "execution_count": 292,
      "outputs": [
        {
          "output_type": "display_data",
          "data": {
            "text/plain": [
              "<Figure size 640x480 with 1 Axes>"
            ],
            "image/png": "[encoded data removed]"
          },
          "metadata": {}
        }
      ]
    },
    {
      "cell_type": "markdown",
      "source": [
        "Provjera monotonosti atributa."
      ],
      "metadata": {
        "id": "n1kWn0dXq-Lr"
      }
    },
    {
      "cell_type": "code",
      "source": [
        "data.nunique()"
      ],
      "metadata": {
        "colab": {
          "base_uri": "https://localhost:8080/",
          "height": 742
        },
        "id": "XEfh2umkKuf5",
        "outputId": "34f2b591-2773-41ec-9eed-ec06523acf36"
      },
      "execution_count": 293,
      "outputs": [
        {
          "output_type": "execute_result",
          "data": {
            "text/plain": [
              "Game ID                       904\n",
              "Matchup                      1808\n",
              "Location                        2\n",
              "Win indicator                   2\n",
              "Final margin                   88\n",
              "Shot number                    38\n",
              "Period                          7\n",
              "Game clock                    719\n",
              "Shot clock                    241\n",
              "Dribbles                       33\n",
              "Touch time                    313\n",
              "Shot distance                 448\n",
              "Points type                     2\n",
              "Shot result                     2\n",
              "Closest defender              473\n",
              "Closest defender ID           474\n",
              "Closest defender distance     299\n",
              "Field goal made                 2\n",
              "Points scored                   3\n",
              "Player name                   281\n",
              "Player ID                     281\n",
              "dtype: int64"
            ],
            "text/html": [
              "<div>\n",
              "<style scoped>\n",
              "    .dataframe tbody tr th:only-of-type {\n",
              "        vertical-align: middle;\n",
              "    }\n",
              "\n",
              "    .dataframe tbody tr th {\n",
              "        vertical-align: top;\n",
              "    }\n",
              "\n",
              "    .dataframe thead th {\n",
              "        text-align: right;\n",
              "    }\n",
              "</style>\n",
              "<table border=\"1\" class=\"dataframe\">\n",
              "  <thead>\n",
              "    <tr style=\"text-align: right;\">\n",
              "      <th></th>\n",
              "      <th>0</th>\n",
              "    </tr>\n",
              "  </thead>\n",
              "  <tbody>\n",
              "    <tr>\n",
              "      <th>Game ID</th>\n",
              "      <td>904</td>\n",
              "    </tr>\n",
              "    <tr>\n",
              "      <th>Matchup</th>\n",
              "      <td>1808</td>\n",
              "    </tr>\n",
              "    <tr>\n",
              "      <th>Location</th>\n",
              "      <td>2</td>\n",
              "    </tr>\n",
              "    <tr>\n",
              "      <th>Win indicator</th>\n",
              "      <td>2</td>\n",
              "    </tr>\n",
              "    <tr>\n",
              "      <th>Final margin</th>\n",
              "      <td>88</td>\n",
              "    </tr>\n",
              "    <tr>\n",
              "      <th>Shot number</th>\n",
              "      <td>38</td>\n",
              "    </tr>\n",
              "    <tr>\n",
              "      <th>Period</th>\n",
              "      <td>7</td>\n",
              "    </tr>\n",
              "    <tr>\n",
              "      <th>Game clock</th>\n",
              "      <td>719</td>\n",
              "    </tr>\n",
              "    <tr>\n",
              "      <th>Shot clock</th>\n",
              "      <td>241</td>\n",
              "    </tr>\n",
              "    <tr>\n",
              "      <th>Dribbles</th>\n",
              "      <td>33</td>\n",
              "    </tr>\n",
              "    <tr>\n",
              "      <th>Touch time</th>\n",
              "      <td>313</td>\n",
              "    </tr>\n",
              "    <tr>\n",
              "      <th>Shot distance</th>\n",
              "      <td>448</td>\n",
              "    </tr>\n",
              "    <tr>\n",
              "      <th>Points type</th>\n",
              "      <td>2</td>\n",
              "    </tr>\n",
              "    <tr>\n",
              "      <th>Shot result</th>\n",
              "      <td>2</td>\n",
              "    </tr>\n",
              "    <tr>\n",
              "      <th>Closest defender</th>\n",
              "      <td>473</td>\n",
              "    </tr>\n",
              "    <tr>\n",
              "      <th>Closest defender ID</th>\n",
              "      <td>474</td>\n",
              "    </tr>\n",
              "    <tr>\n",
              "      <th>Closest defender distance</th>\n",
              "      <td>299</td>\n",
              "    </tr>\n",
              "    <tr>\n",
              "      <th>Field goal made</th>\n",
              "      <td>2</td>\n",
              "    </tr>\n",
              "    <tr>\n",
              "      <th>Points scored</th>\n",
              "      <td>3</td>\n",
              "    </tr>\n",
              "    <tr>\n",
              "      <th>Player name</th>\n",
              "      <td>281</td>\n",
              "    </tr>\n",
              "    <tr>\n",
              "      <th>Player ID</th>\n",
              "      <td>281</td>\n",
              "    </tr>\n",
              "  </tbody>\n",
              "</table>\n",
              "</div><br><label><b>dtype:</b> int64</label>"
            ]
          },
          "metadata": {},
          "execution_count": 293
        }
      ]
    },
    {
      "cell_type": "markdown",
      "source": [
        "#Vizualizacija podataka"
      ],
      "metadata": {
        "id": "bgR53UdFVT_J"
      }
    },
    {
      "cell_type": "markdown",
      "source": [
        "Distribucija vremena izvođenja šuta."
      ],
      "metadata": {
        "id": "LshRYwRUWwj0"
      }
    },
    {
      "cell_type": "code",
      "source": [
        "plt.figure(figsize=(10, 6))\n",
        "sns.histplot(data['Shot clock'], kde=True, bins=20)\n",
        "plt.title(\"distribucija vremena šuta\")\n",
        "plt.xlabel(\"vrijeme šuta\")\n",
        "plt.ylabel(\"broj šuteva\")\n",
        "plt.show()"
      ],
      "metadata": {
        "colab": {
          "base_uri": "https://localhost:8080/",
          "height": 565
        },
        "id": "rlmx4JtLWw1H",
        "outputId": "909e79a9-8bf0-41f2-ef22-ff8d5a1a337e"
      },
      "execution_count": 294,
      "outputs": [
        {
          "output_type": "display_data",
          "data": {
            "text/plain": [
              "<Figure size 1000x600 with 1 Axes>"
            ],
            "image/png": "[encoded data removed]"
          },
          "metadata": {}
        }
      ]
    },
    {
      "cell_type": "markdown",
      "source": [
        "Uspješnost šuteva u domaćim i gortujućim utakmicama."
      ],
      "metadata": {
        "id": "20z2SSW9XQw-"
      }
    },
    {
      "cell_type": "code",
      "source": [
        "location = data.groupby('Location')['Field goal made'].mean().reset_index()\n",
        "plt.figure(figsize=(8, 5))\n",
        "sns.barplot(x='Location', y='Field goal made', data=location)\n",
        "plt.title(\"prosječna uspješnost šuteva\")\n",
        "plt.xlabel(\"lokacija (domaći/gostujući)\")\n",
        "plt.ylabel(\"uspješnost\")\n",
        "plt.show()\n"
      ],
      "metadata": {
        "colab": {
          "base_uri": "https://localhost:8080/",
          "height": 488
        },
        "id": "UqtC7sy5XQio",
        "outputId": "64bc0e01-3509-4d10-a494-b9fe599b59d1"
      },
      "execution_count": 295,
      "outputs": [
        {
          "output_type": "display_data",
          "data": {
            "text/plain": [
              "<Figure size 800x500 with 1 Axes>"
            ],
            "image/png": "[encoded data removed]"
          },
          "metadata": {}
        }
      ]
    },
    {
      "cell_type": "markdown",
      "source": [
        "Prikaz udaljenosti šuteva od koša."
      ],
      "metadata": {
        "id": "CecQiVbUL7e4"
      }
    },
    {
      "cell_type": "code",
      "source": [
        "plt.figure(figsize=(10, 6))\n",
        "sns.histplot(data['Shot distance'], kde=True)\n",
        "plt.title(\"distribucija udaljenosti šuteva\")\n",
        "plt.show()"
      ],
      "metadata": {
        "colab": {
          "base_uri": "https://localhost:8080/",
          "height": 565
        },
        "id": "0kf46W9VL6-7",
        "outputId": "c8fe650f-f877-4d23-960d-011be3c7ef82"
      },
      "execution_count": 296,
      "outputs": [
        {
          "output_type": "display_data",
          "data": {
            "text/plain": [
              "<Figure size 1000x600 with 1 Axes>"
            ],
            "image/png": "[encoded data removed]"
          },
          "metadata": {}
        }
      ]
    },
    {
      "cell_type": "markdown",
      "source": [
        "Uspješnost šuteva u odnosu na udaljenost."
      ],
      "metadata": {
        "id": "q1hUmcOQMJkv"
      }
    },
    {
      "cell_type": "code",
      "source": [
        "plt.figure(figsize=(10, 6))\n",
        "sns.scatterplot(x=data['Shot distance'], y=data['Field goal made'], alpha=0.5)\n",
        "plt.title(\"uspješnost šuteva u odnosu na udaljenost\")\n",
        "plt.xlabel(\"udaljenost\")\n",
        "plt.ylabel(\"uspješnost(1 = uspjeh)\")\n",
        "plt.show()"
      ],
      "metadata": {
        "colab": {
          "base_uri": "https://localhost:8080/",
          "height": 565
        },
        "id": "zX2QVSMTMJuP",
        "outputId": "2ddcc317-1d75-4bb2-e47c-41a5ccf13e33"
      },
      "execution_count": 297,
      "outputs": [
        {
          "output_type": "display_data",
          "data": {
            "text/plain": [
              "<Figure size 1000x600 with 1 Axes>"
            ],
            "image/png": "[encoded data removed]"
          },
          "metadata": {}
        }
      ]
    },
    {
      "cell_type": "markdown",
      "source": [
        "Uspješnost šuteva u različitim periodima igre."
      ],
      "metadata": {
        "id": "ade_ZUjeXveI"
      }
    },
    {
      "cell_type": "code",
      "source": [
        "period = data.groupby('Period')['Field goal made'].mean().reset_index()\n",
        "plt.figure(figsize=(10, 6))\n",
        "sns.barplot(x='Period', y='Field goal made', data=period, palette=\"viridis\")\n",
        "plt.title(\"prosječna uspješnost šuteva u odnosu na period igre\")\n",
        "plt.xlabel(\"period\")\n",
        "plt.ylabel(\"uspješnost\")\n",
        "plt.show()\n"
      ],
      "metadata": {
        "colab": {
          "base_uri": "https://localhost:8080/",
          "height": 652
        },
        "id": "BEvI9v_hXvOL",
        "outputId": "fe56d683-6d8a-4c71-e38b-39f9f5cdea67"
      },
      "execution_count": 298,
      "outputs": [
        {
          "output_type": "stream",
          "name": "stderr",
          "text": [
            "<ipython-input-298-1d76f2bd9044>:3: FutureWarning: \n",
            "\n",
            "Passing `palette` without assigning `hue` is deprecated and will be removed in v0.14.0. Assign the `x` variable to `hue` and set `legend=False` for the same effect.\n",
            "\n",
            "  sns.barplot(x='Period', y='Field goal made', data=period, palette=\"viridis\")\n"
          ]
        },
        {
          "output_type": "display_data",
          "data": {
            "text/plain": [
              "<Figure size 1000x600 with 1 Axes>"
            ],
            "image/png": "[encoded data removed]"
          },
          "metadata": {}
        }
      ]
    },
    {
      "cell_type": "markdown",
      "source": [
        "#Istraživanje podataka"
      ],
      "metadata": {
        "id": "dR37KvoBNaLX"
      }
    },
    {
      "cell_type": "markdown",
      "source": [
        "Analiza razlike u distribuciji uspješnih i neuspješnig šuteva."
      ],
      "metadata": {
        "id": "TfErcP_wNkas"
      }
    },
    {
      "cell_type": "code",
      "source": [
        "made = data['Shot result'].value_counts()['made']\n",
        "missed = data['Shot result'].value_counts()['missed']\n",
        "\n",
        "print(\"broj uspješnih šuteva:\", made)\n",
        "print(\"broj neuspješnih šuteva:\", missed)\n",
        "\n",
        "categories = ['made', 'missed']\n",
        "values = [made, missed]\n",
        "\n",
        "plt.bar(categories, values, color='m', width=0.4)\n",
        "plt.xlabel(\"ishod šuta\")\n",
        "plt.ylabel(\"broj šuteva\")\n",
        "plt.title(\"distribucija uspješnih i neuspješnih šuteva\")\n",
        "plt.show()\n"
      ],
      "metadata": {
        "colab": {
          "base_uri": "https://localhost:8080/",
          "height": 507
        },
        "id": "klyCOK54NmHF",
        "outputId": "c48c077e-4e02-43f7-d1b4-759e2287ac0e"
      },
      "execution_count": 299,
      "outputs": [
        {
          "output_type": "stream",
          "name": "stdout",
          "text": [
            "broj uspješnih šuteva: 57905\n",
            "broj neuspješnih šuteva: 70164\n"
          ]
        },
        {
          "output_type": "display_data",
          "data": {
            "text/plain": [
              "<Figure size 640x480 with 1 Axes>"
            ],
            "image/png": "[encoded data removed]"
          },
          "metadata": {}
        }
      ]
    },
    {
      "cell_type": "markdown",
      "source": [
        "Prikaz korelacije među numeričkim značajkama."
      ],
      "metadata": {
        "id": "JlC3sviaP0T0"
      }
    },
    {
      "cell_type": "code",
      "source": [
        "ndata = data.select_dtypes(include=['float64', 'int64'])\n",
        "corr = ndata.corr()\n",
        "\n",
        "plt.figure(figsize=(12, 8))\n",
        "sns.heatmap(corr, annot=True, fmt='.2f', cmap='coolwarm', cbar=True)\n",
        "plt.title('korelacija')\n",
        "plt.show()"
      ],
      "metadata": {
        "colab": {
          "base_uri": "https://localhost:8080/",
          "height": 865
        },
        "id": "8vjxefsSP0Fb",
        "outputId": "fcfc656b-14f0-4cf4-f42b-1fe045722289"
      },
      "execution_count": 300,
      "outputs": [
        {
          "output_type": "display_data",
          "data": {
            "text/plain": [
              "<Figure size 1200x800 with 2 Axes>"
            ],
            "image/png": "[encoded data removed]"
          },
          "metadata": {}
        }
      ]
    },
    {
      "cell_type": "markdown",
      "source": [
        "#Priprema podataka za algoritme strojnog učenja."
      ],
      "metadata": {
        "id": "zQ9SGqTRMhZA"
      }
    },
    {
      "cell_type": "markdown",
      "source": [
        " Uklanjanje nepotrebnih značajki, provjera i uklanjanje nedostajućih vrijednosti, normalizacija numeričkih značajki, pretvorba string varijabli u kategoričke te mapiranje ciljne varijable."
      ],
      "metadata": {
        "id": "1YiZgPbFUovD"
      }
    },
    {
      "cell_type": "code",
      "source": [
        "data = data.drop(['Game ID', 'Matchup', 'Closest defender', 'Player name', 'Closest defender ID', 'Player ID'], axis=1)\n"
      ],
      "metadata": {
        "id": "pviuLqevMgzR"
      },
      "execution_count": 301,
      "outputs": []
    },
    {
      "cell_type": "markdown",
      "source": [
        "'Game ID', 'Matchup', 'Closest defender', 'Player name', 'Closest defender ID' i 'Player ID' su podatci koji direktno ne utječu na uspješnost šuta te ih zbog toga uklanjamo."
      ],
      "metadata": {
        "id": "sMbpFKWRTuPs"
      }
    },
    {
      "cell_type": "code",
      "source": [
        "\n",
        "data['Shot result'] = data['Shot result'].map({'made': 1, 'missed': 0})\n",
        "data.head()"
      ],
      "metadata": {
        "colab": {
          "base_uri": "https://localhost:8080/",
          "height": 223
        },
        "id": "KPGjT3HozvO_",
        "outputId": "89e21abb-771a-4129-8a80-61ec7a53f0dc"
      },
      "execution_count": 302,
      "outputs": [
        {
          "output_type": "execute_result",
          "data": {
            "text/plain": [
              "  Location Win indicator  Final margin  Shot number  Period Game clock  \\\n",
              "0        A             W            24            1       1       1:09   \n",
              "1        A             W            24            2       1       0:14   \n",
              "2        A             W            24            3       1       0:00   \n",
              "3        A             W            24            4       2      11:47   \n",
              "4        A             W            24            5       2      10:34   \n",
              "\n",
              "   Shot clock  Dribbles  Touch time  Shot distance  Points type  Shot result  \\\n",
              "0        10.8         2         1.9            7.7            2            1   \n",
              "1         3.4         0         0.8           28.2            3            0   \n",
              "2         NaN         3         2.7           10.1            2            0   \n",
              "3        10.3         2         1.9           17.2            2            0   \n",
              "4        10.9         2         2.7            3.7            2            0   \n",
              "\n",
              "   Closest defender distance  Field goal made  Points scored  \n",
              "0                        1.3                1              2  \n",
              "1                        6.1                0              0  \n",
              "2                        0.9                0              0  \n",
              "3                        3.4                0              0  \n",
              "4                        1.1                0              0  "
            ],
            "text/html": [
              "\n",
              "  <div id=\"df-7c5f46d3-19b4-4d79-9620-befffd032d5b\" class=\"colab-df-container\">\n",
              "    <div>\n",
              "<style scoped>\n",
              "    .dataframe tbody tr th:only-of-type {\n",
              "        vertical-align: middle;\n",
              "    }\n",
              "\n",
              "    .dataframe tbody tr th {\n",
              "        vertical-align: top;\n",
              "    }\n",
              "\n",
              "    .dataframe thead th {\n",
              "        text-align: right;\n",
              "    }\n",
              "</style>\n",
              "<table border=\"1\" class=\"dataframe\">\n",
              "  <thead>\n",
              "    <tr style=\"text-align: right;\">\n",
              "      <th></th>\n",
              "      <th>Location</th>\n",
              "      <th>Win indicator</th>\n",
              "      <th>Final margin</th>\n",
              "      <th>Shot number</th>\n",
              "      <th>Period</th>\n",
              "      <th>Game clock</th>\n",
              "      <th>Shot clock</th>\n",
              "      <th>Dribbles</th>\n",
              "      <th>Touch time</th>\n",
              "      <th>Shot distance</th>\n",
              "      <th>Points type</th>\n",
              "      <th>Shot result</th>\n",
              "      <th>Closest defender distance</th>\n",
              "      <th>Field goal made</th>\n",
              "      <th>Points scored</th>\n",
              "    </tr>\n",
              "  </thead>\n",
              "  <tbody>\n",
              "    <tr>\n",
              "      <th>0</th>\n",
              "      <td>A</td>\n",
              "      <td>W</td>\n",
              "      <td>24</td>\n",
              "      <td>1</td>\n",
              "      <td>1</td>\n",
              "      <td>1:09</td>\n",
              "      <td>10.8</td>\n",
              "      <td>2</td>\n",
              "      <td>1.9</td>\n",
              "      <td>7.7</td>\n",
              "      <td>2</td>\n",
              "      <td>1</td>\n",
              "      <td>1.3</td>\n",
              "      <td>1</td>\n",
              "      <td>2</td>\n",
              "    </tr>\n",
              "    <tr>\n",
              "      <th>1</th>\n",
              "      <td>A</td>\n",
              "      <td>W</td>\n",
              "      <td>24</td>\n",
              "      <td>2</td>\n",
              "      <td>1</td>\n",
              "      <td>0:14</td>\n",
              "      <td>3.4</td>\n",
              "      <td>0</td>\n",
              "      <td>0.8</td>\n",
              "      <td>28.2</td>\n",
              "      <td>3</td>\n",
              "      <td>0</td>\n",
              "      <td>6.1</td>\n",
              "      <td>0</td>\n",
              "      <td>0</td>\n",
              "    </tr>\n",
              "    <tr>\n",
              "      <th>2</th>\n",
              "      <td>A</td>\n",
              "      <td>W</td>\n",
              "      <td>24</td>\n",
              "      <td>3</td>\n",
              "      <td>1</td>\n",
              "      <td>0:00</td>\n",
              "      <td>NaN</td>\n",
              "      <td>3</td>\n",
              "      <td>2.7</td>\n",
              "      <td>10.1</td>\n",
              "      <td>2</td>\n",
              "      <td>0</td>\n",
              "      <td>0.9</td>\n",
              "      <td>0</td>\n",
              "      <td>0</td>\n",
              "    </tr>\n",
              "    <tr>\n",
              "      <th>3</th>\n",
              "      <td>A</td>\n",
              "      <td>W</td>\n",
              "      <td>24</td>\n",
              "      <td>4</td>\n",
              "      <td>2</td>\n",
              "      <td>11:47</td>\n",
              "      <td>10.3</td>\n",
              "      <td>2</td>\n",
              "      <td>1.9</td>\n",
              "      <td>17.2</td>\n",
              "      <td>2</td>\n",
              "      <td>0</td>\n",
              "      <td>3.4</td>\n",
              "      <td>0</td>\n",
              "      <td>0</td>\n",
              "    </tr>\n",
              "    <tr>\n",
              "      <th>4</th>\n",
              "      <td>A</td>\n",
              "      <td>W</td>\n",
              "      <td>24</td>\n",
              "      <td>5</td>\n",
              "      <td>2</td>\n",
              "      <td>10:34</td>\n",
              "      <td>10.9</td>\n",
              "      <td>2</td>\n",
              "      <td>2.7</td>\n",
              "      <td>3.7</td>\n",
              "      <td>2</td>\n",
              "      <td>0</td>\n",
              "      <td>1.1</td>\n",
              "      <td>0</td>\n",
              "      <td>0</td>\n",
              "    </tr>\n",
              "  </tbody>\n",
              "</table>\n",
              "</div>\n",
              "    <div class=\"colab-df-buttons\">\n",
              "\n",
              "  <div class=\"colab-df-container\">\n",
              "    <button class=\"colab-df-convert\" onclick=\"convertToInteractive('df-7c5f46d3-19b4-4d79-9620-befffd032d5b')\"\n",
              "            title=\"Convert this dataframe to an interactive table.\"\n",
              "            style=\"display:none;\">\n",
              "\n",
              "  <svg xmlns=\"http://www.w3.org/2000/svg\" height=\"24px\" viewBox=\"0 -960 960 960\">\n",
              "    <path d=\"M120-120v-720h720v720H120Zm60-500h600v-160H180v160Zm220 220h160v-160H400v160Zm0 220h160v-160H400v160ZM180-400h160v-160H180v160Zm440 0h160v-160H620v160ZM180-180h160v-160H180v160Zm440 0h160v-160H620v160Z\"/>\n",
              "  </svg>\n",
              "    </button>\n",
              "\n",
              "  <style>\n",
              "    .colab-df-container {\n",
              "      display:flex;\n",
              "      gap: 12px;\n",
              "    }\n",
              "\n",
              "    .colab-df-convert {\n",
              "      background-color: #E8F0FE;\n",
              "      border: none;\n",
              "      border-radius: 50%;\n",
              "      cursor: pointer;\n",
              "      display: none;\n",
              "      fill: #1967D2;\n",
              "      height: 32px;\n",
              "      padding: 0 0 0 0;\n",
              "      width: 32px;\n",
              "    }\n",
              "\n",
              "    .colab-df-convert:hover {\n",
              "      background-color: #E2EBFA;\n",
              "      box-shadow: 0px 1px 2px rgba(60, 64, 67, 0.3), 0px 1px 3px 1px rgba(60, 64, 67, 0.15);\n",
              "      fill: #174EA6;\n",
              "    }\n",
              "\n",
              "    .colab-df-buttons div {\n",
              "      margin-bottom: 4px;\n",
              "    }\n",
              "\n",
              "    [theme=dark] .colab-df-convert {\n",
              "      background-color: #3B4455;\n",
              "      fill: #D2E3FC;\n",
              "    }\n",
              "\n",
              "    [theme=dark] .colab-df-convert:hover {\n",
              "      background-color: #434B5C;\n",
              "      box-shadow: 0px 1px 3px 1px rgba(0, 0, 0, 0.15);\n",
              "      filter: drop-shadow(0px 1px 2px rgba(0, 0, 0, 0.3));\n",
              "      fill: #FFFFFF;\n",
              "    }\n",
              "  </style>\n",
              "\n",
              "    <script>\n",
              "      const buttonEl =\n",
              "        document.querySelector('#df-7c5f46d3-19b4-4d79-9620-befffd032d5b button.colab-df-convert');\n",
              "      buttonEl.style.display =\n",
              "        google.colab.kernel.accessAllowed ? 'block' : 'none';\n",
              "\n",
              "      async function convertToInteractive(key) {\n",
              "        const element = document.querySelector('#df-7c5f46d3-19b4-4d79-9620-befffd032d5b');\n",
              "        const dataTable =\n",
              "          await google.colab.kernel.invokeFunction('convertToInteractive',\n",
              "                                                    [key], {});\n",
              "        if (!dataTable) return;\n",
              "\n",
              "        const docLinkHtml = 'Like what you see? Visit the ' +\n",
              "          '<a target=\"_blank\" href=https://colab.research.google.com/notebooks/data_table.ipynb>data table notebook</a>'\n",
              "          + ' to learn more about interactive tables.';\n",
              "        element.innerHTML = '';\n",
              "        dataTable['output_type'] = 'display_data';\n",
              "        await google.colab.output.renderOutput(dataTable, element);\n",
              "        const docLink = document.createElement('div');\n",
              "        docLink.innerHTML = docLinkHtml;\n",
              "        element.appendChild(docLink);\n",
              "      }\n",
              "    </script>\n",
              "  </div>\n",
              "\n",
              "\n",
              "<div id=\"df-922b81d9-64ad-4200-8df7-9f1f70ed8036\">\n",
              "  <button class=\"colab-df-quickchart\" onclick=\"quickchart('df-922b81d9-64ad-4200-8df7-9f1f70ed8036')\"\n",
              "            title=\"Suggest charts\"\n",
              "            style=\"display:none;\">\n",
              "\n",
              "<svg xmlns=\"http://www.w3.org/2000/svg\" height=\"24px\"viewBox=\"0 0 24 24\"\n",
              "     width=\"24px\">\n",
              "    <g>\n",
              "        <path d=\"M19 3H5c-1.1 0-2 .9-2 2v14c0 1.1.9 2 2 2h14c1.1 0 2-.9 2-2V5c0-1.1-.9-2-2-2zM9 17H7v-7h2v7zm4 0h-2V7h2v10zm4 0h-2v-4h2v4z\"/>\n",
              "    </g>\n",
              "</svg>\n",
              "  </button>\n",
              "\n",
              "<style>\n",
              "  .colab-df-quickchart {\n",
              "      --bg-color: #E8F0FE;\n",
              "      --fill-color: #1967D2;\n",
              "      --hover-bg-color: #E2EBFA;\n",
              "      --hover-fill-color: #174EA6;\n",
              "      --disabled-fill-color: #AAA;\n",
              "      --disabled-bg-color: #DDD;\n",
              "  }\n",
              "\n",
              "  [theme=dark] .colab-df-quickchart {\n",
              "      --bg-color: #3B4455;\n",
              "      --fill-color: #D2E3FC;\n",
              "      --hover-bg-color: #434B5C;\n",
              "      --hover-fill-color: #FFFFFF;\n",
              "      --disabled-bg-color: #3B4455;\n",
              "      --disabled-fill-color: #666;\n",
              "  }\n",
              "\n",
              "  .colab-df-quickchart {\n",
              "    background-color: var(--bg-color);\n",
              "    border: none;\n",
              "    border-radius: 50%;\n",
              "    cursor: pointer;\n",
              "    display: none;\n",
              "    fill: var(--fill-color);\n",
              "    height: 32px;\n",
              "    padding: 0;\n",
              "    width: 32px;\n",
              "  }\n",
              "\n",
              "  .colab-df-quickchart:hover {\n",
              "    background-color: var(--hover-bg-color);\n",
              "    box-shadow: 0 1px 2px rgba(60, 64, 67, 0.3), 0 1px 3px 1px rgba(60, 64, 67, 0.15);\n",
              "    fill: var(--button-hover-fill-color);\n",
              "  }\n",
              "\n",
              "  .colab-df-quickchart-complete:disabled,\n",
              "  .colab-df-quickchart-complete:disabled:hover {\n",
              "    background-color: var(--disabled-bg-color);\n",
              "    fill: var(--disabled-fill-color);\n",
              "    box-shadow: none;\n",
              "  }\n",
              "\n",
              "  .colab-df-spinner {\n",
              "    border: 2px solid var(--fill-color);\n",
              "    border-color: transparent;\n",
              "    border-bottom-color: var(--fill-color);\n",
              "    animation:\n",
              "      spin 1s steps(1) infinite;\n",
              "  }\n",
              "\n",
              "  @keyframes spin {\n",
              "    0% {\n",
              "      border-color: transparent;\n",
              "      border-bottom-color: var(--fill-color);\n",
              "      border-left-color: var(--fill-color);\n",
              "    }\n",
              "    20% {\n",
              "      border-color: transparent;\n",
              "      border-left-color: var(--fill-color);\n",
              "      border-top-color: var(--fill-color);\n",
              "    }\n",
              "    30% {\n",
              "      border-color: transparent;\n",
              "      border-left-color: var(--fill-color);\n",
              "      border-top-color: var(--fill-color);\n",
              "      border-right-color: var(--fill-color);\n",
              "    }\n",
              "    40% {\n",
              "      border-color: transparent;\n",
              "      border-right-color: var(--fill-color);\n",
              "      border-top-color: var(--fill-color);\n",
              "    }\n",
              "    60% {\n",
              "      border-color: transparent;\n",
              "      border-right-color: var(--fill-color);\n",
              "    }\n",
              "    80% {\n",
              "      border-color: transparent;\n",
              "      border-right-color: var(--fill-color);\n",
              "      border-bottom-color: var(--fill-color);\n",
              "    }\n",
              "    90% {\n",
              "      border-color: transparent;\n",
              "      border-bottom-color: var(--fill-color);\n",
              "    }\n",
              "  }\n",
              "</style>\n",
              "\n",
              "  <script>\n",
              "    async function quickchart(key) {\n",
              "      const quickchartButtonEl =\n",
              "        document.querySelector('#' + key + ' button');\n",
              "      quickchartButtonEl.disabled = true;  // To prevent multiple clicks.\n",
              "      quickchartButtonEl.classList.add('colab-df-spinner');\n",
              "      try {\n",
              "        const charts = await google.colab.kernel.invokeFunction(\n",
              "            'suggestCharts', [key], {});\n",
              "      } catch (error) {\n",
              "        console.error('Error during call to suggestCharts:', error);\n",
              "      }\n",
              "      quickchartButtonEl.classList.remove('colab-df-spinner');\n",
              "      quickchartButtonEl.classList.add('colab-df-quickchart-complete');\n",
              "    }\n",
              "    (() => {\n",
              "      let quickchartButtonEl =\n",
              "        document.querySelector('#df-922b81d9-64ad-4200-8df7-9f1f70ed8036 button');\n",
              "      quickchartButtonEl.style.display =\n",
              "        google.colab.kernel.accessAllowed ? 'block' : 'none';\n",
              "    })();\n",
              "  </script>\n",
              "</div>\n",
              "\n",
              "    </div>\n",
              "  </div>\n"
            ],
            "application/vnd.google.colaboratory.intrinsic+json": {
              "type": "dataframe",
              "variable_name": "data"
            }
          },
          "metadata": {},
          "execution_count": 302
        }
      ]
    },
    {
      "cell_type": "code",
      "source": [
        "from sklearn.preprocessing import StandardScaler\n",
        "\n",
        "data['Shot clock'] = data['Shot clock'].fillna(data['Shot clock'].mean())\n",
        "def toseconds(time):\n",
        "    if isinstance(time, str):\n",
        "        try:\n",
        "            minutes, seconds = map(int, time.split(':'))\n",
        "            return minutes * 60 + seconds\n",
        "        except ValueError:\n",
        "            return None\n",
        "    return time\n",
        "\n",
        "data['Game clock'] = data['Game clock'].apply(toseconds)\n",
        "data['Game clock'] = data['Game clock'].fillna(data['Game clock'].median())\n",
        "\n",
        "numericcol = ['Shot distance', 'Closest defender distance', 'Shot clock', 'Touch time', 'Dribbles', 'Final margin']\n",
        "scaler = StandardScaler()\n",
        "data[numericcol] = scaler.fit_transform(data[numericcol])\n",
        "\n",
        "catcol = ['Location', 'Win indicator', 'Points type']\n",
        "for col in catcol:\n",
        "    data[col] = data[col].astype('category')\n",
        "\n",
        "data.head()"
      ],
      "metadata": {
        "colab": {
          "base_uri": "https://localhost:8080/",
          "height": 223
        },
        "id": "ZDV_OAfzTucZ",
        "outputId": "867ad178-2d3d-4831-b3ed-13fdae199e68"
      },
      "execution_count": 303,
      "outputs": [
        {
          "output_type": "execute_result",
          "data": {
            "text/plain": [
              "  Location Win indicator  Final margin  Shot number  Period  Game clock  \\\n",
              "0        A             W      1.797845            1       1          69   \n",
              "1        A             W      1.797845            2       1          14   \n",
              "2        A             W      1.797845            3       1           0   \n",
              "3        A             W      1.797845            4       2         707   \n",
              "4        A             W      1.797845            5       2         634   \n",
              "\n",
              "     Shot clock  Dribbles  Touch time  Shot distance Points type  Shot result  \\\n",
              "0 -2.933234e-01 -0.006715   -0.284492      -0.660541           2            1   \n",
              "1 -1.606174e+00 -0.581800   -0.645898       1.645698           3            0   \n",
              "2  3.151475e-16  0.280827   -0.021652      -0.390542           2            0   \n",
              "3 -3.820295e-01 -0.006715   -0.284492       0.408204           2            0   \n",
              "4 -2.755822e-01 -0.006715   -0.021652      -1.110539           2            0   \n",
              "\n",
              "   Closest defender distance  Field goal made  Points scored  \n",
              "0                  -1.024154                1              2  \n",
              "1                   0.717225                0              0  \n",
              "2                  -1.169269                0              0  \n",
              "3                  -0.262301                0              0  \n",
              "4                  -1.096712                0              0  "
            ],
            "text/html": [
              "\n",
              "  <div id=\"df-5c3332a3-f829-49ca-981b-5ae05445e5cb\" class=\"colab-df-container\">\n",
              "    <div>\n",
              "<style scoped>\n",
              "    .dataframe tbody tr th:only-of-type {\n",
              "        vertical-align: middle;\n",
              "    }\n",
              "\n",
              "    .dataframe tbody tr th {\n",
              "        vertical-align: top;\n",
              "    }\n",
              "\n",
              "    .dataframe thead th {\n",
              "        text-align: right;\n",
              "    }\n",
              "</style>\n",
              "<table border=\"1\" class=\"dataframe\">\n",
              "  <thead>\n",
              "    <tr style=\"text-align: right;\">\n",
              "      <th></th>\n",
              "      <th>Location</th>\n",
              "      <th>Win indicator</th>\n",
              "      <th>Final margin</th>\n",
              "      <th>Shot number</th>\n",
              "      <th>Period</th>\n",
              "      <th>Game clock</th>\n",
              "      <th>Shot clock</th>\n",
              "      <th>Dribbles</th>\n",
              "      <th>Touch time</th>\n",
              "      <th>Shot distance</th>\n",
              "      <th>Points type</th>\n",
              "      <th>Shot result</th>\n",
              "      <th>Closest defender distance</th>\n",
              "      <th>Field goal made</th>\n",
              "      <th>Points scored</th>\n",
              "    </tr>\n",
              "  </thead>\n",
              "  <tbody>\n",
              "    <tr>\n",
              "      <th>0</th>\n",
              "      <td>A</td>\n",
              "      <td>W</td>\n",
              "      <td>1.797845</td>\n",
              "      <td>1</td>\n",
              "      <td>1</td>\n",
              "      <td>69</td>\n",
              "      <td>-2.933234e-01</td>\n",
              "      <td>-0.006715</td>\n",
              "      <td>-0.284492</td>\n",
              "      <td>-0.660541</td>\n",
              "      <td>2</td>\n",
              "      <td>1</td>\n",
              "      <td>-1.024154</td>\n",
              "      <td>1</td>\n",
              "      <td>2</td>\n",
              "    </tr>\n",
              "    <tr>\n",
              "      <th>1</th>\n",
              "      <td>A</td>\n",
              "      <td>W</td>\n",
              "      <td>1.797845</td>\n",
              "      <td>2</td>\n",
              "      <td>1</td>\n",
              "      <td>14</td>\n",
              "      <td>-1.606174e+00</td>\n",
              "      <td>-0.581800</td>\n",
              "      <td>-0.645898</td>\n",
              "      <td>1.645698</td>\n",
              "      <td>3</td>\n",
              "      <td>0</td>\n",
              "      <td>0.717225</td>\n",
              "      <td>0</td>\n",
              "      <td>0</td>\n",
              "    </tr>\n",
              "    <tr>\n",
              "      <th>2</th>\n",
              "      <td>A</td>\n",
              "      <td>W</td>\n",
              "      <td>1.797845</td>\n",
              "      <td>3</td>\n",
              "      <td>1</td>\n",
              "      <td>0</td>\n",
              "      <td>3.151475e-16</td>\n",
              "      <td>0.280827</td>\n",
              "      <td>-0.021652</td>\n",
              "      <td>-0.390542</td>\n",
              "      <td>2</td>\n",
              "      <td>0</td>\n",
              "      <td>-1.169269</td>\n",
              "      <td>0</td>\n",
              "      <td>0</td>\n",
              "    </tr>\n",
              "    <tr>\n",
              "      <th>3</th>\n",
              "      <td>A</td>\n",
              "      <td>W</td>\n",
              "      <td>1.797845</td>\n",
              "      <td>4</td>\n",
              "      <td>2</td>\n",
              "      <td>707</td>\n",
              "      <td>-3.820295e-01</td>\n",
              "      <td>-0.006715</td>\n",
              "      <td>-0.284492</td>\n",
              "      <td>0.408204</td>\n",
              "      <td>2</td>\n",
              "      <td>0</td>\n",
              "      <td>-0.262301</td>\n",
              "      <td>0</td>\n",
              "      <td>0</td>\n",
              "    </tr>\n",
              "    <tr>\n",
              "      <th>4</th>\n",
              "      <td>A</td>\n",
              "      <td>W</td>\n",
              "      <td>1.797845</td>\n",
              "      <td>5</td>\n",
              "      <td>2</td>\n",
              "      <td>634</td>\n",
              "      <td>-2.755822e-01</td>\n",
              "      <td>-0.006715</td>\n",
              "      <td>-0.021652</td>\n",
              "      <td>-1.110539</td>\n",
              "      <td>2</td>\n",
              "      <td>0</td>\n",
              "      <td>-1.096712</td>\n",
              "      <td>0</td>\n",
              "      <td>0</td>\n",
              "    </tr>\n",
              "  </tbody>\n",
              "</table>\n",
              "</div>\n",
              "    <div class=\"colab-df-buttons\">\n",
              "\n",
              "  <div class=\"colab-df-container\">\n",
              "    <button class=\"colab-df-convert\" onclick=\"convertToInteractive('df-5c3332a3-f829-49ca-981b-5ae05445e5cb')\"\n",
              "            title=\"Convert this dataframe to an interactive table.\"\n",
              "            style=\"display:none;\">\n",
              "\n",
              "  <svg xmlns=\"http://www.w3.org/2000/svg\" height=\"24px\" viewBox=\"0 -960 960 960\">\n",
              "    <path d=\"M120-120v-720h720v720H120Zm60-500h600v-160H180v160Zm220 220h160v-160H400v160Zm0 220h160v-160H400v160ZM180-400h160v-160H180v160Zm440 0h160v-160H620v160ZM180-180h160v-160H180v160Zm440 0h160v-160H620v160Z\"/>\n",
              "  </svg>\n",
              "    </button>\n",
              "\n",
              "  <style>\n",
              "    .colab-df-container {\n",
              "      display:flex;\n",
              "      gap: 12px;\n",
              "    }\n",
              "\n",
              "    .colab-df-convert {\n",
              "      background-color: #E8F0FE;\n",
              "      border: none;\n",
              "      border-radius: 50%;\n",
              "      cursor: pointer;\n",
              "      display: none;\n",
              "      fill: #1967D2;\n",
              "      height: 32px;\n",
              "      padding: 0 0 0 0;\n",
              "      width: 32px;\n",
              "    }\n",
              "\n",
              "    .colab-df-convert:hover {\n",
              "      background-color: #E2EBFA;\n",
              "      box-shadow: 0px 1px 2px rgba(60, 64, 67, 0.3), 0px 1px 3px 1px rgba(60, 64, 67, 0.15);\n",
              "      fill: #174EA6;\n",
              "    }\n",
              "\n",
              "    .colab-df-buttons div {\n",
              "      margin-bottom: 4px;\n",
              "    }\n",
              "\n",
              "    [theme=dark] .colab-df-convert {\n",
              "      background-color: #3B4455;\n",
              "      fill: #D2E3FC;\n",
              "    }\n",
              "\n",
              "    [theme=dark] .colab-df-convert:hover {\n",
              "      background-color: #434B5C;\n",
              "      box-shadow: 0px 1px 3px 1px rgba(0, 0, 0, 0.15);\n",
              "      filter: drop-shadow(0px 1px 2px rgba(0, 0, 0, 0.3));\n",
              "      fill: #FFFFFF;\n",
              "    }\n",
              "  </style>\n",
              "\n",
              "    <script>\n",
              "      const buttonEl =\n",
              "        document.querySelector('#df-5c3332a3-f829-49ca-981b-5ae05445e5cb button.colab-df-convert');\n",
              "      buttonEl.style.display =\n",
              "        google.colab.kernel.accessAllowed ? 'block' : 'none';\n",
              "\n",
              "      async function convertToInteractive(key) {\n",
              "        const element = document.querySelector('#df-5c3332a3-f829-49ca-981b-5ae05445e5cb');\n",
              "        const dataTable =\n",
              "          await google.colab.kernel.invokeFunction('convertToInteractive',\n",
              "                                                    [key], {});\n",
              "        if (!dataTable) return;\n",
              "\n",
              "        const docLinkHtml = 'Like what you see? Visit the ' +\n",
              "          '<a target=\"_blank\" href=https://colab.research.google.com/notebooks/data_table.ipynb>data table notebook</a>'\n",
              "          + ' to learn more about interactive tables.';\n",
              "        element.innerHTML = '';\n",
              "        dataTable['output_type'] = 'display_data';\n",
              "        await google.colab.output.renderOutput(dataTable, element);\n",
              "        const docLink = document.createElement('div');\n",
              "        docLink.innerHTML = docLinkHtml;\n",
              "        element.appendChild(docLink);\n",
              "      }\n",
              "    </script>\n",
              "  </div>\n",
              "\n",
              "\n",
              "<div id=\"df-e140fe9b-cd71-4465-b74b-0c315e3cbbf0\">\n",
              "  <button class=\"colab-df-quickchart\" onclick=\"quickchart('df-e140fe9b-cd71-4465-b74b-0c315e3cbbf0')\"\n",
              "            title=\"Suggest charts\"\n",
              "            style=\"display:none;\">\n",
              "\n",
              "<svg xmlns=\"http://www.w3.org/2000/svg\" height=\"24px\"viewBox=\"0 0 24 24\"\n",
              "     width=\"24px\">\n",
              "    <g>\n",
              "        <path d=\"M19 3H5c-1.1 0-2 .9-2 2v14c0 1.1.9 2 2 2h14c1.1 0 2-.9 2-2V5c0-1.1-.9-2-2-2zM9 17H7v-7h2v7zm4 0h-2V7h2v10zm4 0h-2v-4h2v4z\"/>\n",
              "    </g>\n",
              "</svg>\n",
              "  </button>\n",
              "\n",
              "<style>\n",
              "  .colab-df-quickchart {\n",
              "      --bg-color: #E8F0FE;\n",
              "      --fill-color: #1967D2;\n",
              "      --hover-bg-color: #E2EBFA;\n",
              "      --hover-fill-color: #174EA6;\n",
              "      --disabled-fill-color: #AAA;\n",
              "      --disabled-bg-color: #DDD;\n",
              "  }\n",
              "\n",
              "  [theme=dark] .colab-df-quickchart {\n",
              "      --bg-color: #3B4455;\n",
              "      --fill-color: #D2E3FC;\n",
              "      --hover-bg-color: #434B5C;\n",
              "      --hover-fill-color: #FFFFFF;\n",
              "      --disabled-bg-color: #3B4455;\n",
              "      --disabled-fill-color: #666;\n",
              "  }\n",
              "\n",
              "  .colab-df-quickchart {\n",
              "    background-color: var(--bg-color);\n",
              "    border: none;\n",
              "    border-radius: 50%;\n",
              "    cursor: pointer;\n",
              "    display: none;\n",
              "    fill: var(--fill-color);\n",
              "    height: 32px;\n",
              "    padding: 0;\n",
              "    width: 32px;\n",
              "  }\n",
              "\n",
              "  .colab-df-quickchart:hover {\n",
              "    background-color: var(--hover-bg-color);\n",
              "    box-shadow: 0 1px 2px rgba(60, 64, 67, 0.3), 0 1px 3px 1px rgba(60, 64, 67, 0.15);\n",
              "    fill: var(--button-hover-fill-color);\n",
              "  }\n",
              "\n",
              "  .colab-df-quickchart-complete:disabled,\n",
              "  .colab-df-quickchart-complete:disabled:hover {\n",
              "    background-color: var(--disabled-bg-color);\n",
              "    fill: var(--disabled-fill-color);\n",
              "    box-shadow: none;\n",
              "  }\n",
              "\n",
              "  .colab-df-spinner {\n",
              "    border: 2px solid var(--fill-color);\n",
              "    border-color: transparent;\n",
              "    border-bottom-color: var(--fill-color);\n",
              "    animation:\n",
              "      spin 1s steps(1) infinite;\n",
              "  }\n",
              "\n",
              "  @keyframes spin {\n",
              "    0% {\n",
              "      border-color: transparent;\n",
              "      border-bottom-color: var(--fill-color);\n",
              "      border-left-color: var(--fill-color);\n",
              "    }\n",
              "    20% {\n",
              "      border-color: transparent;\n",
              "      border-left-color: var(--fill-color);\n",
              "      border-top-color: var(--fill-color);\n",
              "    }\n",
              "    30% {\n",
              "      border-color: transparent;\n",
              "      border-left-color: var(--fill-color);\n",
              "      border-top-color: var(--fill-color);\n",
              "      border-right-color: var(--fill-color);\n",
              "    }\n",
              "    40% {\n",
              "      border-color: transparent;\n",
              "      border-right-color: var(--fill-color);\n",
              "      border-top-color: var(--fill-color);\n",
              "    }\n",
              "    60% {\n",
              "      border-color: transparent;\n",
              "      border-right-color: var(--fill-color);\n",
              "    }\n",
              "    80% {\n",
              "      border-color: transparent;\n",
              "      border-right-color: var(--fill-color);\n",
              "      border-bottom-color: var(--fill-color);\n",
              "    }\n",
              "    90% {\n",
              "      border-color: transparent;\n",
              "      border-bottom-color: var(--fill-color);\n",
              "    }\n",
              "  }\n",
              "</style>\n",
              "\n",
              "  <script>\n",
              "    async function quickchart(key) {\n",
              "      const quickchartButtonEl =\n",
              "        document.querySelector('#' + key + ' button');\n",
              "      quickchartButtonEl.disabled = true;  // To prevent multiple clicks.\n",
              "      quickchartButtonEl.classList.add('colab-df-spinner');\n",
              "      try {\n",
              "        const charts = await google.colab.kernel.invokeFunction(\n",
              "            'suggestCharts', [key], {});\n",
              "      } catch (error) {\n",
              "        console.error('Error during call to suggestCharts:', error);\n",
              "      }\n",
              "      quickchartButtonEl.classList.remove('colab-df-spinner');\n",
              "      quickchartButtonEl.classList.add('colab-df-quickchart-complete');\n",
              "    }\n",
              "    (() => {\n",
              "      let quickchartButtonEl =\n",
              "        document.querySelector('#df-e140fe9b-cd71-4465-b74b-0c315e3cbbf0 button');\n",
              "      quickchartButtonEl.style.display =\n",
              "        google.colab.kernel.accessAllowed ? 'block' : 'none';\n",
              "    })();\n",
              "  </script>\n",
              "</div>\n",
              "\n",
              "    </div>\n",
              "  </div>\n"
            ],
            "application/vnd.google.colaboratory.intrinsic+json": {
              "type": "dataframe",
              "variable_name": "data"
            }
          },
          "metadata": {},
          "execution_count": 303
        }
      ]
    },
    {
      "cell_type": "markdown",
      "source": [
        "Podjelom podataka na ulazne značajke i ciljne vrijednosti te podjelom na skupove za treniranje i testiranje omogućujemo primjenu algoritama strojnog učenja."
      ],
      "metadata": {
        "id": "9XYChEW3OMw1"
      }
    },
    {
      "cell_type": "code",
      "source": [
        "from sklearn.model_selection import train_test_split\n",
        "\n",
        "X = data.drop(columns=['Shot result'])\n",
        "y = data['Shot result']\n",
        "\n",
        "\n",
        "Xtrain, Xtest, ytrain, ytest = train_test_split(X, y, test_size=0.05, random_state=42)\n",
        "\n",
        "print(\"dimenzije Xtrain:\", Xtrain.shape)\n",
        "print(\"dimenzije ytrain:\", ytrain.shape)\n"
      ],
      "metadata": {
        "colab": {
          "base_uri": "https://localhost:8080/"
        },
        "id": "d8kty6oHOM_z",
        "outputId": "3dc629f6-1245-46cb-97b1-2bd91e4f8f7c"
      },
      "execution_count": 312,
      "outputs": [
        {
          "output_type": "stream",
          "name": "stdout",
          "text": [
            "dimenzije Xtrain: (121665, 14)\n",
            "dimenzije ytrain: (121665,)\n"
          ]
        }
      ]
    },
    {
      "cell_type": "markdown",
      "source": [
        "#Algoritmi strojnog učenja"
      ],
      "metadata": {
        "id": "Nt5XL_X5VeUr"
      }
    },
    {
      "cell_type": "markdown",
      "source": [
        "Koristeći više algoritama strojnog učenja, usporediti ćemo performanse te odabrati najprikladniji model za odabrane podatke."
      ],
      "metadata": {
        "id": "ypax4DsqY6B-"
      }
    },
    {
      "cell_type": "markdown",
      "source": [
        "**Logistička regresija** je model koji se najčešće koristi za binarne klasifikacije.\n",
        "Kategorijske varijable pretvorene su u numerički format kako bi bile kompatibilne s logističkom regresijom.\n",
        "\n"
      ],
      "metadata": {
        "id": "oJTgzFm4ZhHi"
      }
    },
    {
      "cell_type": "code",
      "source": [
        "from sklearn.linear_model import LogisticRegression\n",
        "from sklearn.metrics import accuracy_score\n",
        "\n",
        "Xtrain2 = Xtrain.copy()\n",
        "Xtest2 = Xtest.copy()\n",
        "\n",
        "catcol = ['Location', 'Win indicator', 'Points type']\n",
        "Xtrain2 = pd.get_dummies(Xtrain2, columns=catcol)\n",
        "Xtest2 = pd.get_dummies(Xtest2, columns=catcol)\n",
        "\n",
        "\n",
        "logreg = LogisticRegression(max_iter=1000)\n",
        "logreg.fit(Xtrain2, ytrain)\n",
        "ypred = logreg.predict(Xtest2)\n",
        "accuracy = accuracy_score(ytest, ypred)\n",
        "print(f\"Točnost modela: {accuracy * 100:.2f}%\")\n"
      ],
      "metadata": {
        "colab": {
          "base_uri": "https://localhost:8080/"
        },
        "id": "pIpnVhvbZg8P",
        "outputId": "70b2ac02-b6b7-4435-ce8b-b1b2e67c4999"
      },
      "execution_count": 305,
      "outputs": [
        {
          "output_type": "stream",
          "name": "stdout",
          "text": [
            "Točnost modela: 100.00%\n"
          ]
        }
      ]
    },
    {
      "cell_type": "markdown",
      "source": [
        "**SVM** je algoritam strojnog učenja koji se koristi za klasifikaciju i regresiju, a djeluje tako da pronalazi ravninu koji razdvaja klase podataka u prostoru značajki."
      ],
      "metadata": {
        "id": "jsh0zGl9cIPd"
      }
    },
    {
      "cell_type": "code",
      "source": [
        "from sklearn.svm import SVC\n",
        "\n",
        "scaler = StandardScaler()\n",
        "Xtrain2s = scaler.fit_transform(Xtrain2)\n",
        "Xtest2s = scaler.transform(Xtest2)\n",
        "\n",
        "model = SVC(kernel='linear')\n",
        "model.fit(Xtrain2s, ytrain)\n",
        "\n",
        "ypred = model.predict(Xtest2s)\n",
        "accuracy = accuracy_score(ytest, ypred)\n",
        "print(f\"točnost modela: {accuracy * 100}%\")\n"
      ],
      "metadata": {
        "colab": {
          "base_uri": "https://localhost:8080/"
        },
        "id": "tazoqwL0cICF",
        "outputId": "c804bf48-06d7-4b4f-de82-003048bf9f41"
      },
      "execution_count": 306,
      "outputs": [
        {
          "output_type": "stream",
          "name": "stdout",
          "text": [
            "točnost modela: 100.0%\n"
          ]
        }
      ]
    },
    {
      "cell_type": "markdown",
      "source": [
        "**Naive Bayes** je algoritam temeljen na Bayesovom teoremu."
      ],
      "metadata": {
        "id": "rfezfMJ8Z269"
      }
    },
    {
      "cell_type": "code",
      "source": [
        "from sklearn.naive_bayes import GaussianNB\n",
        "\n",
        "model = GaussianNB()\n",
        "model.fit(Xtrain2, ytrain)\n",
        "\n",
        "ypred = model.predict(Xtest2)\n",
        "accuracy = accuracy_score(ytest, ypred)\n",
        "print(f\"točnost modela: {accuracy * 100:.2f}%\")\n"
      ],
      "metadata": {
        "colab": {
          "base_uri": "https://localhost:8080/"
        },
        "id": "0DubCdtVahyo",
        "outputId": "bf62c734-9a8f-48a5-be8b-62d1ce460b5a"
      },
      "execution_count": 307,
      "outputs": [
        {
          "output_type": "stream",
          "name": "stdout",
          "text": [
            "točnost modela: 100.00%\n"
          ]
        }
      ]
    },
    {
      "cell_type": "markdown",
      "source": [
        "**Neuronske mreže** koriste slojeve međusobno povezanih \"neurona\" kako bi modelirale složene odnose između ulaznih značajki i ciljeva."
      ],
      "metadata": {
        "id": "-WJKB_ERZ97K"
      }
    },
    {
      "cell_type": "code",
      "source": [
        "from sklearn.neural_network import MLPClassifier\n",
        "\n",
        "model = MLPClassifier(hidden_layer_sizes=(50,), activation='relu', max_iter=1000, random_state=42)\n",
        "model.fit(Xtrain2, ytrain)\n",
        "\n",
        "ypred = model.predict(Xtest2)\n",
        "accuracy = accuracy_score(ytest, ypred)\n",
        "print(f\"točnost neuronske mreže: {accuracy * 100:.2f}%\")\n"
      ],
      "metadata": {
        "colab": {
          "base_uri": "https://localhost:8080/"
        },
        "id": "J5aMRIchazsg",
        "outputId": "c11cbfa7-3587-46d5-cc1a-70da32738bd5"
      },
      "execution_count": 308,
      "outputs": [
        {
          "output_type": "stream",
          "name": "stdout",
          "text": [
            "točnost neuronske mreže: 100.00%\n"
          ]
        }
      ]
    },
    {
      "cell_type": "markdown",
      "source": [
        "**Random Forest** je algoritam koji koristi više stabala odlučivanja kako bi smanjio varijancu i poboljšao točnost"
      ],
      "metadata": {
        "id": "8Xc_U67TaCQY"
      }
    },
    {
      "cell_type": "code",
      "source": [
        "from sklearn.ensemble import RandomForestClassifier\n",
        "\n",
        "model = RandomForestClassifier(n_estimators=100, random_state=42)\n",
        "model.fit(Xtrain2, ytrain)\n",
        "\n",
        "ypred = model.predict(Xtest2)\n",
        "accuracy = accuracy_score(ytest, ypred)\n",
        "print(f\"točnost modela: {accuracy * 100:.2f}%\")\n"
      ],
      "metadata": {
        "colab": {
          "base_uri": "https://localhost:8080/"
        },
        "id": "PL5ySB3cbRRF",
        "outputId": "58151c4c-ab90-46c2-d9d5-a5ef4e45f9ec"
      },
      "execution_count": 309,
      "outputs": [
        {
          "output_type": "stream",
          "name": "stdout",
          "text": [
            "točnost modela: 100.00%\n"
          ]
        }
      ]
    },
    {
      "cell_type": "markdown",
      "source": [
        "**XGBoost** je biblioteka strojnog učenja napravljena za probleme klasifikacije i regresije. Algoritam gradientnog boostinga stvara prediktivan modela najčešće kombiniranjem stabala odluke."
      ],
      "metadata": {
        "id": "EFRgsrfTO0aA"
      }
    },
    {
      "cell_type": "code",
      "source": [
        "model = XGBClassifier(enable_categorical = True)\n",
        "model.fit(Xtrain, ytrain)\n",
        "\n",
        "ypred = model.predict(Xtest)\n",
        "\n",
        "accuracy = accuracy_score(ytest, ypred)\n",
        "print(f\"točnost modela: {accuracy * 100}%\")\n"
      ],
      "metadata": {
        "colab": {
          "base_uri": "https://localhost:8080/"
        },
        "id": "dVI59hQiO0kb",
        "outputId": "2458e8b5-06c2-4de7-934f-aa27a6c9f600"
      },
      "execution_count": 310,
      "outputs": [
        {
          "output_type": "stream",
          "name": "stdout",
          "text": [
            "točnost modela: 100.0%\n"
          ]
        }
      ]
    },
    {
      "cell_type": "markdown",
      "source": [
        "**KNN** je algoritam koji klasificira primjere na temelju sličnosti s najbližim susjedom."
      ],
      "metadata": {
        "id": "EToCa16qefyp"
      }
    },
    {
      "cell_type": "code",
      "source": [
        "from sklearn.neighbors import KNeighborsClassifier\n",
        "\n",
        "model = KNeighborsClassifier(n_neighbors=5)\n",
        "model.fit(Xtrain2, ytrain)\n",
        "\n",
        "ypred = model.predict(Xtest2)\n",
        "accuracy = accuracy_score(ytest, ypred)\n",
        "print(f\"točnost modela: {accuracy * 100}%\")\n"
      ],
      "metadata": {
        "colab": {
          "base_uri": "https://localhost:8080/"
        },
        "id": "BBt_edvbefg4",
        "outputId": "7f8d6a17-5cb6-4aaf-ad8c-a87f68786590"
      },
      "execution_count": 311,
      "outputs": [
        {
          "output_type": "stream",
          "name": "stdout",
          "text": [
            "točnost modela: 99.35977514053717%\n"
          ]
        }
      ]
    },
    {
      "cell_type": "markdown",
      "source": [
        "#Zaključak"
      ],
      "metadata": {
        "id": "nN3jfNpfgSC7"
      }
    },
    {
      "cell_type": "markdown",
      "source": [
        "Rezultati analize pokazuju iznimno visoku točnost modela, pri čemu su logistička regresija, SVM, neuronske mreže, Random Forest i XGBoost postigli točnost od 100%, dok je KNN ostvario nešto nižu točnost od 99.25%. KNN je izabran kao još jedan dodatni model za evaluaciju rezultata. Podjela podataka provedena je u omjeru 95% za treniranje i 5% za testiranje, čime se osigurala konzistentnost s metodologijom primjera rada.\n",
        "Postignuti rezultati ističu potencijal strojnog učenja u predikciji uspješnosti šuteva u košarci, uz visoku razinu točnosti i efikasnosti korištenih algoritama. Usporedbom s rezultatima službenog rada, koji su varirali između 54% i 68%, može se zaključiti kako razlike proizlaze iz različitih metodoloških pristupa pripremi i obradi podataka te evaluaciji modela."
      ],
      "metadata": {
        "id": "J47PQPN_4yW0"
      }
    }
  ]
}